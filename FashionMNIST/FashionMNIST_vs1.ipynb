{
  "nbformat": 4,
  "nbformat_minor": 0,
  "metadata": {
    "colab": {
      "provenance": [],
      "gpuType": "T4",
      "include_colab_link": true
    },
    "kernelspec": {
      "name": "python3",
      "display_name": "Python 3"
    },
    "language_info": {
      "name": "python"
    },
    "accelerator": "GPU"
  },
  "cells": [
    {
      "cell_type": "markdown",
      "metadata": {
        "id": "view-in-github",
        "colab_type": "text"
      },
      "source": [
        "<a href=\"https://colab.research.google.com/github/SCCSMARTCODE/Deep-Learning-00/blob/main/FashionMNIST/FashionMNIST_vs1.ipynb\" target=\"_parent\"><img src=\"https://colab.research.google.com/assets/colab-badge.svg\" alt=\"Open In Colab\"/></a>"
      ]
    },
    {
      "cell_type": "markdown",
      "source": [
        "**Cifar 100 project**"
      ],
      "metadata": {
        "id": "EmScIFg6RxIF"
      }
    },
    {
      "cell_type": "code",
      "execution_count": null,
      "metadata": {
        "id": "C61v1pkDRsQo"
      },
      "outputs": [],
      "source": [
        "import torchvision\n",
        "import matplotlib.pyplot as plt\n",
        "from torch import nn\n",
        "import torch\n",
        "import torch.nn.functional as F\n",
        "from torch.utils.data import DataLoader, random_split\n",
        "from torch.optim import SGD\n",
        "import random\n",
        "import os\n",
        "\n",
        "PATH=\"/content/drive/MyDrive/Deep Learning/fashionMNIST/\""
      ]
    },
    {
      "cell_type": "code",
      "source": [
        "from google.colab import drive\n",
        "drive.mount('/content/drive')"
      ],
      "metadata": {
        "id": "DW3535aWhwHj",
        "colab": {
          "base_uri": "https://localhost:8080/"
        },
        "outputId": "22506214-04a0-49e0-aa18-095f373e0f24"
      },
      "execution_count": null,
      "outputs": [
        {
          "output_type": "stream",
          "name": "stdout",
          "text": [
            "Mounted at /content/drive\n"
          ]
        }
      ]
    },
    {
      "cell_type": "code",
      "source": [
        "if torch.cuda.is_available():\n",
        "    device = torch.device(\"cuda\")\n",
        "    print(\"GPU is available\")\n",
        "else:\n",
        "    device = torch.device(\"cpu\")\n",
        "    print(\"CPU is available\")"
      ],
      "metadata": {
        "id": "Ves4kbOGMzxm",
        "colab": {
          "base_uri": "https://localhost:8080/"
        },
        "outputId": "2606191c-ab44-4182-a146-aa440b855b22"
      },
      "execution_count": null,
      "outputs": [
        {
          "output_type": "stream",
          "name": "stdout",
          "text": [
            "GPU is available\n"
          ]
        }
      ]
    },
    {
      "cell_type": "code",
      "source": [
        "\n",
        "raw_training_dataset = torchvision.datasets.FashionMNIST(root=PATH, transform=torchvision.transforms.ToTensor(), train=True)\n",
        "raw_testing_dataset = torchvision.datasets.FashionMNIST(root=PATH, transform=torchvision.transforms.ToTensor(), train=False)\n",
        "\n",
        "train_dataset, val_dataset = random_split(raw_training_dataset, [55000, 5000])\n",
        "train_loader = DataLoader(train_dataset, batch_size=12000, shuffle=True)\n",
        "val_loader = DataLoader(val_dataset, batch_size=128, shuffle=True)\n",
        "testing_loader =  DataLoader(raw_testing_dataset, batch_size=128, shuffle=True)"
      ],
      "metadata": {
        "id": "qOeJs8tstb9R"
      },
      "execution_count": null,
      "outputs": []
    },
    {
      "cell_type": "code",
      "source": [
        "print(len(val_dataset))\n",
        "\n",
        "print(val_dataset[0])"
      ],
      "metadata": {
        "id": "UD253LFSbyj3"
      },
      "execution_count": null,
      "outputs": []
    },
    {
      "cell_type": "code",
      "source": [
        "class FashionMNIST(nn.Module):\n",
        "\n",
        "    def __init__(self, sizes=[28*28, 16, 32, 10]):\n",
        "        self.sizes = sizes\n",
        "        super(FashionMNIST, self).__init__()\n",
        "        self.function_packs = nn.ModuleList()\n",
        "        self.activation = nn.functional.relu\n",
        "        self.loss_function = nn.CrossEntropyLoss(reduction='mean')\n",
        "        for x in range(len(sizes[:-1])):\n",
        "            self.function_packs.append(nn.Linear(sizes[x], sizes[x+1]))\n",
        "\n",
        "    def forward(self, input):\n",
        "        input = input.reshape(-1, self.sizes[0])\n",
        "        for x, function in enumerate(self.function_packs):\n",
        "            input = function(input)\n",
        "            if x != len(self.function_packs) - 1:\n",
        "                input = self.activation(input)\n",
        "        return torch.nn.functional.softmax(input, dim=1)\n",
        "\n",
        "    def training_step(self, batch):\n",
        "        images, labels = batch\n",
        "        images = images.to(device)\n",
        "        labels = labels.to(device)\n",
        "        pred = self(images)\n",
        "        loss = self.loss_function(pred, labels)\n",
        "        return loss\n",
        "\n",
        "    def validation_step(self, batch):\n",
        "        images, labels = batch\n",
        "        images = images.to(device)\n",
        "        labels = labels.to(device)\n",
        "        pred = self(images)\n",
        "        # print(pred[:2], labels[:2])\n",
        "        loss = self.loss_function(pred, labels)\n",
        "        acc = self.accuracy(pred, labels)\n",
        "        return {'val_loss': loss, 'val_acc': acc}\n",
        "\n",
        "    def validation_epoch_end(self, outputs):\n",
        "        batch_losses = [x['val_loss'] for x in outputs]\n",
        "        epoch_loss = torch.stack(batch_losses).mean()\n",
        "        batch_accs = [x['val_acc'] for x in outputs]\n",
        "        epoch_acc = torch.tensor(batch_accs).mean()\n",
        "        return {'val_loss': epoch_loss.item(), 'val_acc': epoch_acc.item()}\n",
        "\n",
        "    @staticmethod\n",
        "    def accuracy(pred, labels):\n",
        "        right_pred_count = 0\n",
        "        indices = torch.max(pred, dim=1)[1]\n",
        "        for index, label in zip(indices, labels):\n",
        "            if index == label:\n",
        "                right_pred_count += 1\n",
        "        return right_pred_count / len(labels)\n",
        "\n",
        "\n",
        "    def epoch_end(self, epoch, result):\n",
        "        print('Epoch [{}], val_loss: {:.4f}, val_acc: {:.4f}'.format(epoch, result['val_loss'], result['val_acc']))\n",
        "\n",
        "\n",
        "model = FashionMNIST()\n",
        "model.to(device)"
      ],
      "metadata": {
        "id": "JpwCgl5_hkVa",
        "colab": {
          "base_uri": "https://localhost:8080/"
        },
        "outputId": "afee542f-46b8-422f-d241-88b1e5127e75"
      },
      "execution_count": null,
      "outputs": [
        {
          "output_type": "execute_result",
          "data": {
            "text/plain": [
              "FashionMNIST(\n",
              "  (function_packs): ModuleList(\n",
              "    (0): Linear(in_features=784, out_features=16, bias=True)\n",
              "    (1): Linear(in_features=16, out_features=32, bias=True)\n",
              "    (2): Linear(in_features=32, out_features=10, bias=True)\n",
              "  )\n",
              "  (loss_function): CrossEntropyLoss()\n",
              ")"
            ]
          },
          "metadata": {},
          "execution_count": 5
        }
      ]
    },
    {
      "cell_type": "code",
      "source": [
        "print(model.state_dict())"
      ],
      "metadata": {
        "id": "stIedsVGTPIG"
      },
      "execution_count": null,
      "outputs": []
    },
    {
      "cell_type": "code",
      "source": [
        "def evaluate(model, val_loader):\n",
        "    outputs = [model.validation_step(batch) for batch in val_loader]\n",
        "    return model.validation_epoch_end(outputs)"
      ],
      "metadata": {
        "id": "KAekLUFgm8LB"
      },
      "execution_count": null,
      "outputs": []
    },
    {
      "cell_type": "code",
      "source": [
        "def train(epochs, lr, model, train_loader, val_loader, opt=SGD):\n",
        "    history = []\n",
        "    optimizer = opt(model.parameters(), lr)\n",
        "    for epoch in range(epochs):\n",
        "    # batch training\n",
        "        for batch in train_loader:\n",
        "            loss = model.training_step(batch)\n",
        "            loss.backward()\n",
        "            optimizer.step()\n",
        "            optimizer.zero_grad()\n",
        "        #validation phase\n",
        "        result = evaluate(model, val_loader)\n",
        "        model.epoch_end(epoch, result)\n",
        "        history.append(result)\n",
        "        torch.save(model.state_dict(), os.path.join(PATH, \"parameters_fully_connected.pth\"))\n",
        "    return history\n"
      ],
      "metadata": {
        "id": "RPpWaYY_xfiQ"
      },
      "execution_count": null,
      "outputs": []
    },
    {
      "cell_type": "code",
      "source": [],
      "metadata": {
        "id": "MgOjo92l7qzI"
      },
      "execution_count": null,
      "outputs": []
    },
    {
      "cell_type": "code",
      "source": [
        "result0 = evaluate(model, val_loader)\n",
        "print(result0)"
      ],
      "metadata": {
        "colab": {
          "base_uri": "https://localhost:8080/"
        },
        "id": "w8Y97VTR5ydU",
        "outputId": "af01b715-3064-4566-ad3c-46546ce79dd0"
      },
      "execution_count": null,
      "outputs": [
        {
          "output_type": "stream",
          "name": "stdout",
          "text": [
            "{'val_loss': 1.731331467628479, 'val_acc': 0.7373046875}\n"
          ]
        }
      ]
    },
    {
      "cell_type": "code",
      "source": [
        "# model.load_state_dict(torch.load(os.path.join(PATH, \"parameters.pth\"), map_location=device))"
      ],
      "metadata": {
        "colab": {
          "base_uri": "https://localhost:8080/"
        },
        "id": "ZjnTfUKXS_j4",
        "outputId": "b61f86a1-7c3d-4867-dca7-e259b1459fc9"
      },
      "execution_count": null,
      "outputs": [
        {
          "output_type": "execute_result",
          "data": {
            "text/plain": [
              "<All keys matched successfully>"
            ]
          },
          "metadata": {},
          "execution_count": 10
        }
      ]
    },
    {
      "cell_type": "code",
      "source": [
        "history1 = train(5, 0.52, model, train_loader, val_loader)"
      ],
      "metadata": {
        "id": "8Il8EHqvDnlb",
        "colab": {
          "base_uri": "https://localhost:8080/"
        },
        "outputId": "9e999d77-fd55-43a0-dd81-6df839da3cae"
      },
      "execution_count": null,
      "outputs": [
        {
          "output_type": "stream",
          "name": "stdout",
          "text": [
            "Epoch [0], val_loss: 2.2988, val_acc: 0.1045\n",
            "Epoch [1], val_loss: 2.2959, val_acc: 0.1066\n",
            "Epoch [2], val_loss: 2.2922, val_acc: 0.1379\n",
            "Epoch [3], val_loss: 2.2879, val_acc: 0.2148\n",
            "Epoch [4], val_loss: 2.2829, val_acc: 0.2652\n"
          ]
        }
      ]
    },
    {
      "cell_type": "code",
      "source": [
        "history1.extend(train(50, 0.02, model, train_loader, val_loader))"
      ],
      "metadata": {
        "colab": {
          "base_uri": "https://localhost:8080/"
        },
        "id": "pQOU_BRrLr94",
        "outputId": "b2faa81a-fe9f-45e6-9f59-56dcd59c9c6c"
      },
      "execution_count": null,
      "outputs": [
        {
          "output_type": "stream",
          "name": "stdout",
          "text": [
            "Epoch [0], val_loss: 1.7327, val_acc: 0.7350\n",
            "Epoch [1], val_loss: 1.7397, val_acc: 0.7293\n",
            "Epoch [2], val_loss: 1.7375, val_acc: 0.7295\n",
            "Epoch [3], val_loss: 1.7307, val_acc: 0.7387\n",
            "Epoch [4], val_loss: 1.7386, val_acc: 0.7301\n",
            "Epoch [5], val_loss: 1.7378, val_acc: 0.7301\n",
            "Epoch [6], val_loss: 1.7324, val_acc: 0.7359\n",
            "Epoch [7], val_loss: 1.7328, val_acc: 0.7359\n",
            "Epoch [8], val_loss: 1.7384, val_acc: 0.7301\n",
            "Epoch [9], val_loss: 1.7359, val_acc: 0.7330\n",
            "Epoch [10], val_loss: 1.7349, val_acc: 0.7330\n",
            "Epoch [11], val_loss: 1.7397, val_acc: 0.7271\n",
            "Epoch [12], val_loss: 1.7378, val_acc: 0.7303\n",
            "Epoch [13], val_loss: 1.7412, val_acc: 0.7244\n",
            "Epoch [14], val_loss: 1.7355, val_acc: 0.7332\n",
            "Epoch [15], val_loss: 1.7349, val_acc: 0.7332\n",
            "Epoch [16], val_loss: 1.7350, val_acc: 0.7332\n",
            "Epoch [17], val_loss: 1.7386, val_acc: 0.7303\n",
            "Epoch [18], val_loss: 1.7378, val_acc: 0.7303\n",
            "Epoch [19], val_loss: 1.7379, val_acc: 0.7301\n",
            "Epoch [20], val_loss: 1.7377, val_acc: 0.7303\n",
            "Epoch [21], val_loss: 1.7347, val_acc: 0.7332\n",
            "Epoch [22], val_loss: 1.7372, val_acc: 0.7305\n",
            "Epoch [23], val_loss: 1.7352, val_acc: 0.7330\n",
            "Epoch [24], val_loss: 1.7347, val_acc: 0.7332\n",
            "Epoch [25], val_loss: 1.7390, val_acc: 0.7275\n",
            "Epoch [26], val_loss: 1.7373, val_acc: 0.7305\n",
            "Epoch [27], val_loss: 1.7373, val_acc: 0.7307\n",
            "Epoch [28], val_loss: 1.7389, val_acc: 0.7277\n",
            "Epoch [29], val_loss: 1.7430, val_acc: 0.7250\n",
            "Epoch [30], val_loss: 1.7331, val_acc: 0.7367\n",
            "Epoch [31], val_loss: 1.7345, val_acc: 0.7338\n",
            "Epoch [32], val_loss: 1.7366, val_acc: 0.7311\n",
            "Epoch [33], val_loss: 1.7287, val_acc: 0.7398\n",
            "Epoch [34], val_loss: 1.7315, val_acc: 0.7369\n",
            "Epoch [35], val_loss: 1.7319, val_acc: 0.7369\n",
            "Epoch [36], val_loss: 1.7374, val_acc: 0.7311\n",
            "Epoch [37], val_loss: 1.7285, val_acc: 0.7402\n",
            "Epoch [38], val_loss: 1.7294, val_acc: 0.7402\n",
            "Epoch [39], val_loss: 1.7369, val_acc: 0.7312\n",
            "Epoch [40], val_loss: 1.7406, val_acc: 0.7256\n",
            "Epoch [41], val_loss: 1.7322, val_acc: 0.7373\n",
            "Epoch [42], val_loss: 1.7372, val_acc: 0.7311\n",
            "Epoch [43], val_loss: 1.7370, val_acc: 0.7309\n",
            "Epoch [44], val_loss: 1.7303, val_acc: 0.7398\n",
            "Epoch [45], val_loss: 1.7292, val_acc: 0.7398\n",
            "Epoch [46], val_loss: 1.7344, val_acc: 0.7344\n",
            "Epoch [47], val_loss: 1.7292, val_acc: 0.7402\n",
            "Epoch [48], val_loss: 1.7342, val_acc: 0.7344\n",
            "Epoch [49], val_loss: 1.7313, val_acc: 0.7373\n"
          ]
        }
      ]
    },
    {
      "cell_type": "code",
      "source": [
        "history = [result0] + history1\n",
        "accuracies = [result['val_acc'] for result in history]\n",
        "losses = [result['val_loss'] for result in history]\n",
        "\n",
        "# Plot for Accuracy\n",
        "plt.figure(1)\n",
        "plt.plot(accuracies, '-x')\n",
        "plt.xlabel('Epoch')\n",
        "plt.ylabel('Accuracy')\n",
        "plt.title('Accuracy vs. No. of Epochs')\n",
        "\n",
        "# Plot for Loss\n",
        "plt.figure(2)\n",
        "plt.plot(losses, '-o')\n",
        "plt.xlabel('Epoch')\n",
        "plt.ylabel('Loss')\n",
        "plt.title('Loss vs. No. of Epochs')\n",
        "\n",
        "plt.show()"
      ],
      "metadata": {
        "colab": {
          "base_uri": "https://localhost:8080/",
          "height": 927
        },
        "id": "o873pftHDZXN",
        "outputId": "558906f1-7917-4b36-f4fd-0f51986233c8"
      },
      "execution_count": null,
      "outputs": [
        {
          "output_type": "display_data",
          "data": {
            "text/plain": [
              "<Figure size 640x480 with 1 Axes>"
            ],
            "image/png": "[encoded data removed]"
          },
          "metadata": {}
        },
        {
          "output_type": "display_data",
          "data": {
            "text/plain": [
              "<Figure size 640x480 with 1 Axes>"
            ],
            "image/png": "[encoded data removed]"
          },
          "metadata": {}
        }
      ]
    },
    {
      "cell_type": "code",
      "source": [
        "for images, labels in testing_loader:\n",
        "    images = images.to(device)\n",
        "    labels = labels.to(device)\n",
        "    pred = model(images)\n",
        "    for x, y in zip(pred, labels):\n",
        "        pred, index = torch.max(x, dim=0)\n",
        "        print(f\"->Assign {pred * 100:.1f}% prob for {raw_training_dataset.classes[index.data]} -------- {raw_training_dataset.classes[y]}\")\n",
        "    break"
      ],
      "metadata": {
        "id": "M_n-x3fg1mpI",
        "colab": {
          "base_uri": "https://localhost:8080/"
        },
        "outputId": "42477904-f0e5-4c04-bed4-db28139f74b8"
      },
      "execution_count": null,
      "outputs": [
        {
          "output_type": "stream",
          "name": "stdout",
          "text": [
            "->Assign 100.0% prob for Dress -------- Dress\n",
            "->Assign 99.9% prob for Trouser -------- Trouser\n",
            "->Assign 100.0% prob for Pullover -------- Coat\n",
            "->Assign 100.0% prob for T-shirt/top -------- Shirt\n",
            "->Assign 54.7% prob for Sneaker -------- Ankle boot\n",
            "->Assign 50.0% prob for T-shirt/top -------- Shirt\n",
            "->Assign 100.0% prob for Sandal -------- Sandal\n",
            "->Assign 99.6% prob for Ankle boot -------- Ankle boot\n",
            "->Assign 100.0% prob for Trouser -------- Trouser\n",
            "->Assign 100.0% prob for Pullover -------- Pullover\n",
            "->Assign 96.2% prob for Sneaker -------- Sneaker\n",
            "->Assign 100.0% prob for Sneaker -------- Sneaker\n",
            "->Assign 100.0% prob for Pullover -------- Coat\n",
            "->Assign 89.9% prob for Dress -------- Dress\n",
            "->Assign 100.0% prob for T-shirt/top -------- T-shirt/top\n",
            "->Assign 100.0% prob for T-shirt/top -------- T-shirt/top\n",
            "->Assign 99.6% prob for Sneaker -------- Sneaker\n",
            "->Assign 100.0% prob for Pullover -------- Pullover\n",
            "->Assign 100.0% prob for T-shirt/top -------- Shirt\n",
            "->Assign 100.0% prob for Pullover -------- Pullover\n",
            "->Assign 99.7% prob for Pullover -------- Shirt\n",
            "->Assign 80.4% prob for Pullover -------- Coat\n",
            "->Assign 99.9% prob for Dress -------- Dress\n",
            "->Assign 99.5% prob for Dress -------- Dress\n",
            "->Assign 98.7% prob for Ankle boot -------- Ankle boot\n",
            "->Assign 100.0% prob for T-shirt/top -------- T-shirt/top\n",
            "->Assign 97.6% prob for Sandal -------- Sandal\n",
            "->Assign 100.0% prob for Trouser -------- Trouser\n",
            "->Assign 99.8% prob for T-shirt/top -------- T-shirt/top\n",
            "->Assign 100.0% prob for Pullover -------- Coat\n",
            "->Assign 100.0% prob for Bag -------- Bag\n",
            "->Assign 100.0% prob for Pullover -------- Coat\n",
            "->Assign 99.4% prob for Sneaker -------- Sneaker\n",
            "->Assign 99.8% prob for Pullover -------- Shirt\n",
            "->Assign 93.1% prob for Pullover -------- Coat\n",
            "->Assign 62.0% prob for Dress -------- Coat\n",
            "->Assign 56.9% prob for Dress -------- T-shirt/top\n",
            "->Assign 100.0% prob for Trouser -------- Trouser\n",
            "->Assign 99.9% prob for Ankle boot -------- Ankle boot\n",
            "->Assign 100.0% prob for Trouser -------- Trouser\n",
            "->Assign 99.4% prob for Pullover -------- Coat\n",
            "->Assign 97.1% prob for Sneaker -------- Sneaker\n",
            "->Assign 100.0% prob for Pullover -------- Coat\n",
            "->Assign 98.4% prob for Bag -------- Bag\n",
            "->Assign 100.0% prob for Trouser -------- Trouser\n",
            "->Assign 98.9% prob for Ankle boot -------- Ankle boot\n",
            "->Assign 97.4% prob for Ankle boot -------- Ankle boot\n",
            "->Assign 100.0% prob for Trouser -------- Trouser\n",
            "->Assign 60.2% prob for Pullover -------- Coat\n",
            "->Assign 99.8% prob for T-shirt/top -------- Shirt\n",
            "->Assign 100.0% prob for T-shirt/top -------- T-shirt/top\n",
            "->Assign 99.9% prob for Pullover -------- Coat\n",
            "->Assign 100.0% prob for Pullover -------- Shirt\n",
            "->Assign 100.0% prob for Pullover -------- Pullover\n",
            "->Assign 96.9% prob for Sandal -------- Sandal\n",
            "->Assign 97.4% prob for Sandal -------- Sandal\n",
            "->Assign 100.0% prob for Sneaker -------- Sneaker\n",
            "->Assign 100.0% prob for Bag -------- Bag\n",
            "->Assign 100.0% prob for Sneaker -------- Sneaker\n",
            "->Assign 89.9% prob for Sandal -------- Sandal\n",
            "->Assign 100.0% prob for Ankle boot -------- Ankle boot\n",
            "->Assign 40.0% prob for T-shirt/top -------- Shirt\n",
            "->Assign 90.2% prob for Dress -------- Dress\n",
            "->Assign 99.9% prob for T-shirt/top -------- T-shirt/top\n",
            "->Assign 100.0% prob for T-shirt/top -------- T-shirt/top\n",
            "->Assign 99.9% prob for T-shirt/top -------- T-shirt/top\n",
            "->Assign 100.0% prob for Ankle boot -------- Ankle boot\n",
            "->Assign 50.8% prob for Sandal -------- Sandal\n",
            "->Assign 99.5% prob for Ankle boot -------- Ankle boot\n",
            "->Assign 97.9% prob for Sandal -------- Sandal\n",
            "->Assign 100.0% prob for Pullover -------- Pullover\n",
            "->Assign 53.9% prob for Sandal -------- Sandal\n",
            "->Assign 98.2% prob for T-shirt/top -------- Shirt\n",
            "->Assign 96.3% prob for T-shirt/top -------- Shirt\n",
            "->Assign 99.3% prob for Ankle boot -------- Ankle boot\n",
            "->Assign 98.7% prob for Ankle boot -------- Ankle boot\n",
            "->Assign 94.8% prob for Pullover -------- Bag\n",
            "->Assign 94.5% prob for Bag -------- Bag\n",
            "->Assign 99.9% prob for Sneaker -------- Sneaker\n",
            "->Assign 100.0% prob for Trouser -------- Trouser\n",
            "->Assign 84.4% prob for Sandal -------- Sandal\n",
            "->Assign 86.1% prob for Sandal -------- Sandal\n",
            "->Assign 99.7% prob for Dress -------- Coat\n",
            "->Assign 99.9% prob for Dress -------- Dress\n",
            "->Assign 100.0% prob for Pullover -------- Coat\n",
            "->Assign 99.5% prob for Pullover -------- Coat\n",
            "->Assign 99.9% prob for Ankle boot -------- Ankle boot\n",
            "->Assign 93.4% prob for Dress -------- T-shirt/top\n",
            "->Assign 94.3% prob for T-shirt/top -------- T-shirt/top\n",
            "->Assign 100.0% prob for Trouser -------- Trouser\n",
            "->Assign 82.0% prob for Dress -------- T-shirt/top\n",
            "->Assign 100.0% prob for Pullover -------- Shirt\n",
            "->Assign 99.5% prob for Pullover -------- Shirt\n",
            "->Assign 99.7% prob for Trouser -------- Trouser\n",
            "->Assign 100.0% prob for Bag -------- Shirt\n",
            "->Assign 98.4% prob for Sandal -------- Sandal\n",
            "->Assign 92.8% prob for Sandal -------- Sandal\n",
            "->Assign 99.9% prob for Bag -------- Bag\n",
            "->Assign 100.0% prob for Dress -------- Dress\n",
            "->Assign 100.0% prob for Bag -------- Bag\n",
            "->Assign 99.9% prob for Sneaker -------- Sneaker\n",
            "->Assign 94.3% prob for Bag -------- Bag\n",
            "->Assign 100.0% prob for Ankle boot -------- Ankle boot\n",
            "->Assign 100.0% prob for Pullover -------- Pullover\n",
            "->Assign 100.0% prob for Bag -------- Bag\n",
            "->Assign 100.0% prob for Trouser -------- Trouser\n",
            "->Assign 100.0% prob for T-shirt/top -------- T-shirt/top\n",
            "->Assign 63.2% prob for Sneaker -------- Sandal\n",
            "->Assign 99.3% prob for Sandal -------- Sandal\n",
            "->Assign 100.0% prob for T-shirt/top -------- T-shirt/top\n",
            "->Assign 100.0% prob for Ankle boot -------- Ankle boot\n",
            "->Assign 100.0% prob for Trouser -------- Trouser\n",
            "->Assign 100.0% prob for Pullover -------- Pullover\n",
            "->Assign 100.0% prob for Pullover -------- Pullover\n",
            "->Assign 99.3% prob for Pullover -------- Pullover\n",
            "->Assign 100.0% prob for Pullover -------- Shirt\n",
            "->Assign 99.5% prob for Sandal -------- Sandal\n",
            "->Assign 91.5% prob for Pullover -------- Shirt\n",
            "->Assign 99.8% prob for Ankle boot -------- Ankle boot\n",
            "->Assign 99.8% prob for T-shirt/top -------- T-shirt/top\n",
            "->Assign 99.2% prob for Bag -------- Bag\n",
            "->Assign 100.0% prob for Pullover -------- Pullover\n",
            "->Assign 100.0% prob for Pullover -------- Coat\n",
            "->Assign 100.0% prob for Pullover -------- Pullover\n",
            "->Assign 96.9% prob for Dress -------- Dress\n",
            "->Assign 100.0% prob for T-shirt/top -------- Shirt\n",
            "->Assign 96.7% prob for Sneaker -------- Sneaker\n",
            "->Assign 100.0% prob for T-shirt/top -------- T-shirt/top\n"
          ]
        }
      ]
    }
  ]
}