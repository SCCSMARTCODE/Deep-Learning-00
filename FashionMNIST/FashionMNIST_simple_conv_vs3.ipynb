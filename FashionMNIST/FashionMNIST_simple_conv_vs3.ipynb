{
  "nbformat": 4,
  "nbformat_minor": 0,
  "metadata": {
    "colab": {
      "provenance": [],
      "gpuType": "T4",
      "include_colab_link": true
    },
    "kernelspec": {
      "name": "python3",
      "display_name": "Python 3"
    },
    "language_info": {
      "name": "python"
    },
    "accelerator": "GPU"
  },
  "cells": [
    {
      "cell_type": "markdown",
      "metadata": {
        "id": "view-in-github",
        "colab_type": "text"
      },
      "source": [
        "<a href=\"https://colab.research.google.com/github/SCCSMARTCODE/Deep-Learning-00/blob/main/FashionMNIST/FashionMNIST_simple_conv_vs3.ipynb\" target=\"_parent\"><img src=\"https://colab.research.google.com/assets/colab-badge.svg\" alt=\"Open In Colab\"/></a>"
      ]
    },
    {
      "cell_type": "markdown",
      "source": [
        "**Cifar 100 project**"
      ],
      "metadata": {
        "id": "EmScIFg6RxIF"
      }
    },
    {
      "cell_type": "code",
      "execution_count": 1,
      "metadata": {
        "id": "C61v1pkDRsQo"
      },
      "outputs": [],
      "source": [
        "import torchvision\n",
        "import matplotlib.pyplot as plt\n",
        "from torch import nn\n",
        "import torch\n",
        "import torch.nn.functional as F\n",
        "from torch.utils.data import DataLoader, random_split\n",
        "from torch.optim import SGD\n",
        "import random\n",
        "import os\n",
        "\n",
        "PATH=\"/content/drive/MyDrive/Deep Learning/fashionMNIST/\""
      ]
    },
    {
      "cell_type": "code",
      "source": [
        "if torch.cuda.is_available():\n",
        "    device = torch.device(\"cuda\")\n",
        "    print(\"GPU is available\")\n",
        "else:\n",
        "    device = torch.device(\"cpu\")\n",
        "    print(\"CPU is available\")"
      ],
      "metadata": {
        "id": "Ves4kbOGMzxm",
        "colab": {
          "base_uri": "https://localhost:8080/"
        },
        "outputId": "4d7bce06-787d-40cd-95e7-a2d93de28df5"
      },
      "execution_count": 2,
      "outputs": [
        {
          "output_type": "stream",
          "name": "stdout",
          "text": [
            "GPU is available\n"
          ]
        }
      ]
    },
    {
      "cell_type": "code",
      "source": [
        "raw_training_dataset = torchvision.datasets.FashionMNIST(root=PATH, transform=torchvision.transforms.ToTensor(), train=True)\n",
        "raw_testing_dataset = torchvision.datasets.FashionMNIST(root=PATH, transform=torchvision.transforms.ToTensor(), train=False)\n",
        "\n",
        "train_dataset, val_dataset = random_split(raw_training_dataset, [55000, 5000])\n",
        "train_loader = DataLoader(train_dataset, batch_size=512, shuffle=True)\n",
        "val_loader = DataLoader(val_dataset, batch_size=128, shuffle=True)\n",
        "testing_loader =  DataLoader(raw_testing_dataset, batch_size=128, shuffle=True)"
      ],
      "metadata": {
        "id": "qOeJs8tstb9R"
      },
      "execution_count": 5,
      "outputs": []
    },
    {
      "cell_type": "code",
      "source": [
        "from google.colab import drive\n",
        "drive.mount('/content/drive')"
      ],
      "metadata": {
        "colab": {
          "base_uri": "https://localhost:8080/"
        },
        "id": "JVQQFGrkOb4X",
        "outputId": "d4e6cf60-af73-4301-adc8-1ee859a64696"
      },
      "execution_count": 4,
      "outputs": [
        {
          "output_type": "stream",
          "name": "stdout",
          "text": [
            "Mounted at /content/drive\n"
          ]
        }
      ]
    },
    {
      "cell_type": "code",
      "source": [
        "class FashionMNIST(nn.Module):\n",
        "\n",
        "    def __init__(self):\n",
        "        super(FashionMNIST, self).__init__()\n",
        "        self.loss_function=nn.CrossEntropyLoss()\n",
        "        self.conv = nn.Sequential(\n",
        "            nn.Conv2d(in_channels=1, out_channels=32, kernel_size=3, stride=1),\n",
        "            nn.ReLU(),\n",
        "            nn.BatchNorm2d(32),\n",
        "            nn.Conv2d(in_channels=32, out_channels=128, kernel_size=3, stride=1),\n",
        "            nn.ReLU(),\n",
        "            nn.BatchNorm2d(128),\n",
        "            nn.MaxPool2d(2),\n",
        "            nn.Conv2d(in_channels=128, out_channels=128, kernel_size=3, stride=1),\n",
        "            nn.ReLU(),\n",
        "            nn.BatchNorm2d(128),\n",
        "            nn.MaxPool2d(2)\n",
        "        )\n",
        "        self.fc_layer = nn.Sequential(\n",
        "            nn.Flatten(),\n",
        "            nn.Linear(3200, 10)\n",
        "        )\n",
        "\n",
        "    def forward(self, input):\n",
        "        out = self.conv(input)\n",
        "        out = self.fc_layer(out)\n",
        "        return out\n",
        "\n",
        "    def training_step(self, batch):\n",
        "        images, labels = batch\n",
        "        images = images.to(device)\n",
        "        labels = labels.to(device)\n",
        "        pred = self(images)\n",
        "        loss = self.loss_function(pred, labels)\n",
        "        return loss\n",
        "\n",
        "    def validation_step(self, batch):\n",
        "        images, labels = batch\n",
        "        images = images.to(device)\n",
        "        labels = labels.to(device)\n",
        "        pred = self(images)\n",
        "        # print(pred[:2], labels[:2])\n",
        "        loss = self.loss_function(pred, labels)\n",
        "        acc = self.accuracy(pred, labels)\n",
        "        return {'val_loss': loss, 'val_acc': acc}\n",
        "\n",
        "    def validation_epoch_end(self, outputs):\n",
        "        batch_losses = [x['val_loss'] for x in outputs]\n",
        "        epoch_loss = torch.stack(batch_losses).mean()\n",
        "        batch_accs = [x['val_acc'] for x in outputs]\n",
        "        epoch_acc = torch.tensor(batch_accs).mean()\n",
        "        return {'val_loss': epoch_loss.item(), 'val_acc': epoch_acc.item()}\n",
        "\n",
        "    @staticmethod\n",
        "    def accuracy(pred, labels):\n",
        "        right_pred_count = 0\n",
        "        indices = torch.max(pred, dim=1)[1]\n",
        "        for index, label in zip(indices, labels):\n",
        "            if index == label:\n",
        "                right_pred_count += 1\n",
        "        return right_pred_count / len(labels)\n",
        "\n",
        "\n",
        "    def epoch_end(self, epoch, result):\n",
        "        print('Epoch [{}], val_loss: {:.4f}, val_acc: {:.4f}'.format(epoch, result['val_loss'], result['val_acc']))\n",
        "\n",
        "\n",
        "model = FashionMNIST()\n",
        "model.to(device)"
      ],
      "metadata": {
        "id": "JpwCgl5_hkVa",
        "colab": {
          "base_uri": "https://localhost:8080/"
        },
        "outputId": "cec1560b-e6e5-4f8f-ea5a-03ffc9101efb"
      },
      "execution_count": 6,
      "outputs": [
        {
          "output_type": "execute_result",
          "data": {
            "text/plain": [
              "FashionMNIST(\n",
              "  (loss_function): CrossEntropyLoss()\n",
              "  (conv): Sequential(\n",
              "    (0): Conv2d(1, 32, kernel_size=(3, 3), stride=(1, 1))\n",
              "    (1): ReLU()\n",
              "    (2): BatchNorm2d(32, eps=1e-05, momentum=0.1, affine=True, track_running_stats=True)\n",
              "    (3): Conv2d(32, 128, kernel_size=(3, 3), stride=(1, 1))\n",
              "    (4): ReLU()\n",
              "    (5): BatchNorm2d(128, eps=1e-05, momentum=0.1, affine=True, track_running_stats=True)\n",
              "    (6): MaxPool2d(kernel_size=2, stride=2, padding=0, dilation=1, ceil_mode=False)\n",
              "    (7): Conv2d(128, 128, kernel_size=(3, 3), stride=(1, 1))\n",
              "    (8): ReLU()\n",
              "    (9): BatchNorm2d(128, eps=1e-05, momentum=0.1, affine=True, track_running_stats=True)\n",
              "    (10): MaxPool2d(kernel_size=2, stride=2, padding=0, dilation=1, ceil_mode=False)\n",
              "  )\n",
              "  (fc_layer): Sequential(\n",
              "    (0): Flatten(start_dim=1, end_dim=-1)\n",
              "    (1): Linear(in_features=3200, out_features=10, bias=True)\n",
              "  )\n",
              ")"
            ]
          },
          "metadata": {},
          "execution_count": 6
        }
      ]
    },
    {
      "cell_type": "code",
      "source": [
        "def evaluate(model, val_loader):\n",
        "    outputs = [model.validation_step(batch) for batch in val_loader]\n",
        "    return model.validation_epoch_end(outputs)"
      ],
      "metadata": {
        "id": "KAekLUFgm8LB"
      },
      "execution_count": 7,
      "outputs": []
    },
    {
      "cell_type": "code",
      "source": [
        "def train(epochs, lr, model, train_loader, val_loader, opt=SGD):\n",
        "    history = []\n",
        "    optimizer = opt(model.parameters(), lr)\n",
        "    for epoch in range(epochs):\n",
        "    # batch training\n",
        "        for batch in train_loader:\n",
        "            loss = model.training_step(batch)\n",
        "            loss.backward()\n",
        "            optimizer.step()\n",
        "            optimizer.zero_grad()\n",
        "        #validation phase\n",
        "        result = evaluate(model, val_loader)\n",
        "        model.epoch_end(epoch, result)\n",
        "        history.append(result)\n",
        "        torch.save(model.state_dict(), os.path.join(PATH, \"parameters_fully_connected_version2.pth\"))\n",
        "    return history\n"
      ],
      "metadata": {
        "id": "RPpWaYY_xfiQ"
      },
      "execution_count": 8,
      "outputs": []
    },
    {
      "cell_type": "code",
      "source": [
        "history1 = train(10, 0.2, model, train_loader, val_loader)"
      ],
      "metadata": {
        "id": "8Il8EHqvDnlb",
        "colab": {
          "base_uri": "https://localhost:8080/"
        },
        "outputId": "def4097d-53c6-4e23-b6ba-f2668ab41fcd"
      },
      "execution_count": 10,
      "outputs": [
        {
          "output_type": "stream",
          "name": "stdout",
          "text": [
            "Epoch [0], val_loss: 0.4853, val_acc: 0.8291\n",
            "Epoch [1], val_loss: 0.3770, val_acc: 0.8615\n",
            "Epoch [2], val_loss: 0.2986, val_acc: 0.8896\n",
            "Epoch [3], val_loss: 0.3208, val_acc: 0.8844\n",
            "Epoch [4], val_loss: 0.2976, val_acc: 0.8951\n",
            "Epoch [5], val_loss: 0.3098, val_acc: 0.8854\n",
            "Epoch [6], val_loss: 0.2654, val_acc: 0.9057\n",
            "Epoch [7], val_loss: 0.2893, val_acc: 0.8939\n",
            "Epoch [8], val_loss: 0.2679, val_acc: 0.9053\n",
            "Epoch [9], val_loss: 0.2594, val_acc: 0.9092\n"
          ]
        }
      ]
    },
    {
      "cell_type": "code",
      "source": [
        "history2 = train(10, 0.02, model, train_loader, val_loader)"
      ],
      "metadata": {
        "colab": {
          "base_uri": "https://localhost:8080/"
        },
        "id": "-hBM9yPCPZhG",
        "outputId": "5027e306-2e85-4ff7-ffdc-6d058ac69950"
      },
      "execution_count": 12,
      "outputs": [
        {
          "output_type": "stream",
          "name": "stdout",
          "text": [
            "Epoch [0], val_loss: 0.2277, val_acc: 0.9217\n",
            "Epoch [1], val_loss: 0.2279, val_acc: 0.9219\n",
            "Epoch [2], val_loss: 0.2284, val_acc: 0.9191\n",
            "Epoch [3], val_loss: 0.2480, val_acc: 0.9195\n",
            "Epoch [4], val_loss: 0.2312, val_acc: 0.9217\n",
            "Epoch [5], val_loss: 0.2274, val_acc: 0.9201\n",
            "Epoch [6], val_loss: 0.2295, val_acc: 0.9229\n",
            "Epoch [7], val_loss: 0.2226, val_acc: 0.9244\n",
            "Epoch [8], val_loss: 0.2217, val_acc: 0.9234\n",
            "Epoch [9], val_loss: 0.2253, val_acc: 0.9227\n"
          ]
        }
      ]
    },
    {
      "cell_type": "code",
      "source": [
        "evaluate(model, val_loader)"
      ],
      "metadata": {
        "colab": {
          "base_uri": "https://localhost:8080/"
        },
        "id": "w8Y97VTR5ydU",
        "outputId": "1a180d87-08f2-4687-bfc4-4bedea47850f"
      },
      "execution_count": 11,
      "outputs": [
        {
          "output_type": "execute_result",
          "data": {
            "text/plain": [
              "{'val_loss': 0.2623099386692047, 'val_acc': 0.9085937738418579}"
            ]
          },
          "metadata": {},
          "execution_count": 11
        }
      ]
    },
    {
      "cell_type": "code",
      "source": [
        "history = history1\n",
        "accuracies = [result['val_acc'] for result in history]\n",
        "losses = [result['val_loss'] for result in history]\n",
        "\n",
        "# Plot for Accuracy\n",
        "plt.figure(1)\n",
        "plt.plot(accuracies, '-x')\n",
        "plt.xlabel('Epoch')\n",
        "plt.ylabel('Accuracy')\n",
        "plt.title('Accuracy vs. No. of Epochs')\n",
        "\n",
        "# Plot for Loss\n",
        "plt.figure(2)\n",
        "plt.plot(losses, '-o')\n",
        "plt.xlabel('Epoch')\n",
        "plt.ylabel('Loss')\n",
        "plt.title('Loss vs. No. of Epochs')\n",
        "\n",
        "plt.show()"
      ],
      "metadata": {
        "colab": {
          "base_uri": "https://localhost:8080/",
          "height": 927
        },
        "id": "o873pftHDZXN",
        "outputId": "1f579198-48fd-4d30-af93-0b7eee3c206d"
      },
      "execution_count": 13,
      "outputs": [
        {
          "output_type": "display_data",
          "data": {
            "text/plain": [
              "<Figure size 640x480 with 1 Axes>"
            ],
            "image/png": "[encoded data removed]"
          },
          "metadata": {}
        },
        {
          "output_type": "display_data",
          "data": {
            "text/plain": [
              "<Figure size 640x480 with 1 Axes>"
            ],
            "image/png": "[encoded data removed]"
          },
          "metadata": {}
        }
      ]
    }
  ]
}