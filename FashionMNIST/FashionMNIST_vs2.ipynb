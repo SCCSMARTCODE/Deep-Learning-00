{
  "nbformat": 4,
  "nbformat_minor": 0,
  "metadata": {
    "colab": {
      "provenance": [],
      "gpuType": "T4",
      "include_colab_link": true
    },
    "kernelspec": {
      "name": "python3",
      "display_name": "Python 3"
    },
    "language_info": {
      "name": "python"
    },
    "accelerator": "GPU"
  },
  "cells": [
    {
      "cell_type": "markdown",
      "metadata": {
        "id": "view-in-github",
        "colab_type": "text"
      },
      "source": [
        "<a href=\"https://colab.research.google.com/github/SCCSMARTCODE/Deep-Learning-00/blob/main/FashionMNIST/FashionMNIST_vs2.ipynb\" target=\"_parent\"><img src=\"https://colab.research.google.com/assets/colab-badge.svg\" alt=\"Open In Colab\"/></a>"
      ]
    },
    {
      "cell_type": "markdown",
      "source": [
        "**Cifar 100 project**"
      ],
      "metadata": {
        "id": "EmScIFg6RxIF"
      }
    },
    {
      "cell_type": "code",
      "execution_count": 1,
      "metadata": {
        "id": "C61v1pkDRsQo"
      },
      "outputs": [],
      "source": [
        "import torchvision\n",
        "import matplotlib.pyplot as plt\n",
        "from torch import nn\n",
        "import torch\n",
        "import torch.nn.functional as F\n",
        "from torch.utils.data import DataLoader, random_split\n",
        "from torch.optim import SGD\n",
        "import random\n",
        "import os\n",
        "\n",
        "PATH=\"/content/drive/MyDrive/Deep Learning/fashionMNIST/\""
      ]
    },
    {
      "cell_type": "code",
      "source": [
        "from google.colab import drive\n",
        "drive.mount('/content/drive')"
      ],
      "metadata": {
        "id": "DW3535aWhwHj",
        "colab": {
          "base_uri": "https://localhost:8080/"
        },
        "outputId": "8fb9ef8c-0938-4c6c-8c04-97c434808e38"
      },
      "execution_count": 2,
      "outputs": [
        {
          "output_type": "stream",
          "name": "stdout",
          "text": [
            "Mounted at /content/drive\n"
          ]
        }
      ]
    },
    {
      "cell_type": "code",
      "source": [
        "if torch.cuda.is_available():\n",
        "    device = torch.device(\"cuda\")\n",
        "    print(\"GPU is available\")\n",
        "else:\n",
        "    device = torch.device(\"cpu\")\n",
        "    print(\"CPU is available\")"
      ],
      "metadata": {
        "id": "Ves4kbOGMzxm",
        "colab": {
          "base_uri": "https://localhost:8080/"
        },
        "outputId": "be4ff32a-8061-447f-f5cf-67d74228aec0"
      },
      "execution_count": 3,
      "outputs": [
        {
          "output_type": "stream",
          "name": "stdout",
          "text": [
            "GPU is available\n"
          ]
        }
      ]
    },
    {
      "cell_type": "code",
      "source": [
        "\n",
        "raw_training_dataset = torchvision.datasets.FashionMNIST(root=PATH, transform=torchvision.transforms.ToTensor(), train=True)\n",
        "raw_testing_dataset = torchvision.datasets.FashionMNIST(root=PATH, transform=torchvision.transforms.ToTensor(), train=False)\n",
        "\n",
        "train_dataset, val_dataset = random_split(raw_training_dataset, [55000, 5000])\n",
        "train_loader = DataLoader(train_dataset, batch_size=12000, shuffle=True)\n",
        "val_loader = DataLoader(val_dataset, batch_size=128, shuffle=True)\n",
        "testing_loader =  DataLoader(raw_testing_dataset, batch_size=128, shuffle=True)"
      ],
      "metadata": {
        "id": "qOeJs8tstb9R"
      },
      "execution_count": 4,
      "outputs": []
    },
    {
      "cell_type": "code",
      "source": [
        "class FashionMNIST(nn.Module):\n",
        "\n",
        "    def __init__(self, sizes=[28*28, 16000, 32000, 10]):\n",
        "        super(FashionMNIST, self).__init__()\n",
        "        self.sizes = sizes\n",
        "        self.function_packs = nn.ModuleList()\n",
        "        self.activation = nn.functional.relu\n",
        "        self.loss_function = nn.CrossEntropyLoss(reduction='mean')\n",
        "        for x in range(len(sizes[:-1])):\n",
        "            self.function_packs.append(nn.Linear(sizes[x], sizes[x+1]))\n",
        "\n",
        "    def forward(self, input):\n",
        "        input = input.reshape(-1, self.sizes[0])\n",
        "        for x, function in enumerate(self.function_packs):\n",
        "            input = function(input)\n",
        "            if x != len(self.function_packs) - 1:\n",
        "                input = self.activation(input)\n",
        "        return torch.nn.functional.softmax(input, dim=1)\n",
        "\n",
        "    def training_step(self, batch):\n",
        "        images, labels = batch\n",
        "        images = images.to(device)\n",
        "        labels = labels.to(device)\n",
        "        pred = self(images)\n",
        "        loss = self.loss_function(pred, labels)\n",
        "        return loss\n",
        "\n",
        "    def validation_step(self, batch):\n",
        "        images, labels = batch\n",
        "        images = images.to(device)\n",
        "        labels = labels.to(device)\n",
        "        pred = self(images)\n",
        "        # print(pred[:2], labels[:2])\n",
        "        loss = self.loss_function(pred, labels)\n",
        "        acc = self.accuracy(pred, labels)\n",
        "        return {'val_loss': loss, 'val_acc': acc}\n",
        "\n",
        "    def validation_epoch_end(self, outputs):\n",
        "        batch_losses = [x['val_loss'] for x in outputs]\n",
        "        epoch_loss = torch.stack(batch_losses).mean()\n",
        "        batch_accs = [x['val_acc'] for x in outputs]\n",
        "        epoch_acc = torch.tensor(batch_accs).mean()\n",
        "        return {'val_loss': epoch_loss.item(), 'val_acc': epoch_acc.item()}\n",
        "\n",
        "    @staticmethod\n",
        "    def accuracy(pred, labels):\n",
        "        right_pred_count = 0\n",
        "        indices = torch.max(pred, dim=1)[1]\n",
        "        for index, label in zip(indices, labels):\n",
        "            if index == label:\n",
        "                right_pred_count += 1\n",
        "        return right_pred_count / len(labels)\n",
        "\n",
        "\n",
        "    def epoch_end(self, epoch, result):\n",
        "        print('Epoch [{}], val_loss: {:.4f}, val_acc: {:.4f}'.format(epoch, result['val_loss'], result['val_acc']))\n",
        "\n",
        "\n",
        "model = FashionMNIST()\n",
        "model.to(device)"
      ],
      "metadata": {
        "id": "JpwCgl5_hkVa",
        "colab": {
          "base_uri": "https://localhost:8080/"
        },
        "outputId": "a705233b-def3-4816-95b8-e476b7ca337e"
      },
      "execution_count": 15,
      "outputs": [
        {
          "output_type": "execute_result",
          "data": {
            "text/plain": [
              "FashionMNIST(\n",
              "  (function_packs): ModuleList(\n",
              "    (0): Linear(in_features=784, out_features=16000, bias=True)\n",
              "    (1): Linear(in_features=16000, out_features=32000, bias=True)\n",
              "    (2): Linear(in_features=32000, out_features=10, bias=True)\n",
              "  )\n",
              "  (loss_function): CrossEntropyLoss()\n",
              ")"
            ]
          },
          "metadata": {},
          "execution_count": 15
        }
      ]
    },
    {
      "cell_type": "code",
      "source": [
        "def evaluate(model, val_loader):\n",
        "    outputs = [model.validation_step(batch) for batch in val_loader]\n",
        "    return model.validation_epoch_end(outputs)"
      ],
      "metadata": {
        "id": "KAekLUFgm8LB"
      },
      "execution_count": 7,
      "outputs": []
    },
    {
      "cell_type": "code",
      "source": [
        "def train(epochs, lr, model, train_loader, val_loader, opt=SGD):\n",
        "    history = []\n",
        "    optimizer = opt(model.parameters(), lr)\n",
        "    for epoch in range(epochs):\n",
        "    # batch training\n",
        "        for batch in train_loader:\n",
        "            loss = model.training_step(batch)\n",
        "            loss.backward()\n",
        "            optimizer.step()\n",
        "            optimizer.zero_grad()\n",
        "        #validation phase\n",
        "        result = evaluate(model, val_loader)\n",
        "        model.epoch_end(epoch, result)\n",
        "        history.append(result)\n",
        "        torch.save(model.state_dict(), os.path.join(PATH, \"parameters_fully_connected_version2.pth\"))\n",
        "    return history\n"
      ],
      "metadata": {
        "id": "RPpWaYY_xfiQ"
      },
      "execution_count": 16,
      "outputs": []
    },
    {
      "cell_type": "code",
      "source": [
        "history1 = train(10, 0.2, model, train_loader, val_loader)"
      ],
      "metadata": {
        "id": "8Il8EHqvDnlb",
        "colab": {
          "base_uri": "https://localhost:8080/"
        },
        "outputId": "3eb594db-9a72-42d1-a899-47f81ce851e5"
      },
      "execution_count": 17,
      "outputs": [
        {
          "output_type": "stream",
          "name": "stdout",
          "text": [
            "Epoch [0], val_loss: 2.2657, val_acc: 0.2229\n",
            "Epoch [1], val_loss: 2.1910, val_acc: 0.3523\n",
            "Epoch [2], val_loss: 2.0969, val_acc: 0.4916\n",
            "Epoch [3], val_loss: 2.0143, val_acc: 0.5605\n",
            "Epoch [4], val_loss: 1.9614, val_acc: 0.6205\n",
            "Epoch [5], val_loss: 1.9167, val_acc: 0.6328\n",
            "Epoch [6], val_loss: 1.8955, val_acc: 0.6271\n",
            "Epoch [7], val_loss: 1.8683, val_acc: 0.6701\n",
            "Epoch [8], val_loss: 1.8535, val_acc: 0.6578\n",
            "Epoch [9], val_loss: 1.8411, val_acc: 0.6646\n"
          ]
        }
      ]
    },
    {
      "cell_type": "code",
      "source": [
        "evaluate(model, val_loader)"
      ],
      "metadata": {
        "colab": {
          "base_uri": "https://localhost:8080/"
        },
        "id": "w8Y97VTR5ydU",
        "outputId": "448dca1f-55f7-4b39-da88-0d818b4ac8e0"
      },
      "execution_count": 18,
      "outputs": [
        {
          "output_type": "execute_result",
          "data": {
            "text/plain": [
              "{'val_loss': 1.8429096937179565, 'val_acc': 0.6646484136581421}"
            ]
          },
          "metadata": {},
          "execution_count": 18
        }
      ]
    },
    {
      "cell_type": "code",
      "source": [
        "history = history1\n",
        "accuracies = [result['val_acc'] for result in history]\n",
        "losses = [result['val_loss'] for result in history]\n",
        "\n",
        "# Plot for Accuracy\n",
        "plt.figure(1)\n",
        "plt.plot(accuracies, '-x')\n",
        "plt.xlabel('Epoch')\n",
        "plt.ylabel('Accuracy')\n",
        "plt.title('Accuracy vs. No. of Epochs')\n",
        "\n",
        "# Plot for Loss\n",
        "plt.figure(2)\n",
        "plt.plot(losses, '-o')\n",
        "plt.xlabel('Epoch')\n",
        "plt.ylabel('Loss')\n",
        "plt.title('Loss vs. No. of Epochs')\n",
        "\n",
        "plt.show()"
      ],
      "metadata": {
        "colab": {
          "base_uri": "https://localhost:8080/",
          "height": 927
        },
        "id": "o873pftHDZXN",
        "outputId": "37244fce-a2c5-4ed9-d5a4-69383c4601e3"
      },
      "execution_count": 19,
      "outputs": [
        {
          "output_type": "display_data",
          "data": {
            "text/plain": [
              "<Figure size 640x480 with 1 Axes>"
            ],
            "image/png": "[encoded data removed]"
          },
          "metadata": {}
        },
        {
          "output_type": "display_data",
          "data": {
            "text/plain": [
              "<Figure size 640x480 with 1 Axes>"
            ],
            "image/png": "[encoded data removed]"
          },
          "metadata": {}
        }
      ]
    }
  ]
}