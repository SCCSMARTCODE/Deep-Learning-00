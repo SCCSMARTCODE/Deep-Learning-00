{
  "cells": [
    {
      "cell_type": "markdown",
      "metadata": {
        "id": "view-in-github",
        "colab_type": "text"
      },
      "source": [
        "<a href=\"https://colab.research.google.com/github/SCCSMARTCODE/Deep-Learning-00/blob/main/LeNet/LeNet.ipynb\" target=\"_parent\"><img src=\"https://colab.research.google.com/assets/colab-badge.svg\" alt=\"Open In Colab\"/></a>"
      ]
    },
    {
      "cell_type": "markdown",
      "source": [
        "# **Project Overview: Handwritten Digit Classification with MNIST**\n",
        "\n",
        "This project aims to develop a robust handwritten digit classification system utilizing the `MNIST dataset`. The primary focus is to explore the effects of dropout and weight decay techniques on model performance to enhance learning efficacy. We will be employing the ``LeNet`` architecture as the foundational framework for this classification task.\n",
        "\n",
        "## **Objectives**:\n",
        "\n",
        " - [ ] To investigate the application of dropout and weight decay methods in preventing overfitting and improving the generalization of the model.\n",
        "To implement and evaluate the ``LeNet`` architecture for handwritten digit recognition.\n",
        "\n",
        " - [ ] To analyze the performance metrics of the model under different configurations of dropout and weight decay.\n",
        "\n",
        " - [ ] To leverage Weights & Biases ``(WandB)`` for visualizing and monitoring the training metrics, facilitating a better understanding of the model's performance throughout the training process.\n",
        "\n",
        "\n",
        "This document outlines the methodology and planned approach for successfully executing this project, aiming to achieve accurate and reliable classification of handwritten digits."
      ],
      "metadata": {
        "id": "FNapepsTHb_i"
      }
    },
    {
      "cell_type": "markdown",
      "source": [
        "`Dependency Importation`"
      ],
      "metadata": {
        "id": "SMdDVXdeJj4Y"
      }
    },
    {
      "cell_type": "code",
      "source": [
        "%pip install wandb"
      ],
      "metadata": {
        "id": "cy3HUD36iRkI"
      },
      "execution_count": null,
      "outputs": []
    },
    {
      "cell_type": "code",
      "source": [
        "import torch\n",
        "from torch.utils.data import random_split, DataLoader\n",
        "from torchvision.datasets import MNIST\n",
        "from torchvision.transforms import ToTensor, Pad, Compose\n",
        "from torch import nn as nn\n",
        "from torchsummary import summary\n",
        "from torch.optim import Adam\n",
        "from torch.optim.lr_scheduler import OneCycleLR\n",
        "import wandb"
      ],
      "metadata": {
        "id": "mQB2NP8QHecB"
      },
      "execution_count": 2,
      "outputs": []
    },
    {
      "cell_type": "markdown",
      "source": [
        "`Data PipeLine`"
      ],
      "metadata": {
        "id": "M-vE09JrJ6FL"
      }
    },
    {
      "cell_type": "code",
      "source": [
        "basic_data_transform = Compose(\n",
        "    [\n",
        "        ToTensor(),\n",
        "        Pad(padding=2)\n",
        "    ]\n",
        ")\n",
        "\n",
        "\n",
        "raw_training_dataset = MNIST(root='.', transform=basic_data_transform, download=True)\n",
        "raw_testing_dataset = MNIST(root='.', train=False, transform=basic_data_transform, download=False)\n",
        "\n",
        "train_ds_len = 55000\n",
        "valid_ds_len = 5000\n",
        "\n",
        "\n",
        "training_dataset, validation_dataset = random_split(raw_training_dataset, [train_ds_len, valid_ds_len])\n",
        "\n",
        "### Defining DataLoader\n",
        "train_dl = DataLoader(training_dataset, batch_size=128, shuffle=True, num_workers=2, pin_memory=True, drop_last=True)\n",
        "test_dl = DataLoader(raw_testing_dataset, batch_size=128, shuffle=False, num_workers=2, pin_memory=True, drop_last=True)\n",
        "valid_dl = DataLoader(validation_dataset, batch_size=128, shuffle=False, num_workers=2, pin_memory=True, drop_last=True)"
      ],
      "metadata": {
        "id": "AKVr-JTGHGrp"
      },
      "execution_count": null,
      "outputs": []
    },
    {
      "cell_type": "markdown",
      "source": [
        "`LeNet Model Defination & Initialization `"
      ],
      "metadata": {
        "id": "WAdVitd6NhKk"
      }
    },
    {
      "cell_type": "code",
      "source": [
        "class LeNet(nn.Module):\n",
        "    def __init__(self):\n",
        "        super(LeNet, self).__init__()\n",
        "\n",
        "        self.conv_layers = nn.Sequential(\n",
        "            nn.Conv2d(in_channels=1, out_channels=32, kernel_size=3, padding=1),\n",
        "            nn.ReLU(),\n",
        "            nn.BatchNorm2d(num_features=32),\n",
        "            nn.MaxPool2d(kernel_size=2),\n",
        "\n",
        "            nn.Conv2d(in_channels=32, out_channels=64, kernel_size=3, padding=1),\n",
        "            nn.ReLU(),\n",
        "            nn.BatchNorm2d(num_features=64),\n",
        "            nn.MaxPool2d(kernel_size=4),\n",
        "\n",
        "            nn.Conv2d(in_channels=64, out_channels=128, kernel_size=3, padding=1),\n",
        "            nn.ReLU(),\n",
        "            nn.BatchNorm2d(num_features=128),\n",
        "            nn.MaxPool2d(kernel_size=2)\n",
        "        )\n",
        "\n",
        "        self.fc_layer = nn.Sequential(\n",
        "            nn.Flatten(),\n",
        "            nn.Linear(512, 64),\n",
        "            nn.Dropout1d(p=.3),\n",
        "\n",
        "            nn.Linear(64, 10)\n",
        "            )\n",
        "\n",
        "    def forward(self, input):\n",
        "        out = self.conv_layers(input)\n",
        "        out = self.fc_layer(out)\n",
        "        return out\n",
        "\n",
        "\n",
        "network = LeNet()\n",
        "device = torch.device(\"cuda\" if torch.cuda.is_available() else \"cpu\")\n",
        "network = network.to(device)\n",
        "summary(network, input_size=(1,32,32),  batch_size=128)\n",
        "network"
      ],
      "metadata": {
        "id": "lxu8RK8LNrgI",
        "colab": {
          "base_uri": "https://localhost:8080/"
        },
        "outputId": "ebe56297-149b-45fa-e2a5-f68e93f03f16"
      },
      "execution_count": 6,
      "outputs": [
        {
          "output_type": "stream",
          "name": "stdout",
          "text": [
            "----------------------------------------------------------------\n",
            "        Layer (type)               Output Shape         Param #\n",
            "================================================================\n",
            "            Conv2d-1          [128, 32, 32, 32]             320\n",
            "              ReLU-2          [128, 32, 32, 32]               0\n",
            "       BatchNorm2d-3          [128, 32, 32, 32]              64\n",
            "         MaxPool2d-4          [128, 32, 16, 16]               0\n",
            "            Conv2d-5          [128, 64, 16, 16]          18,496\n",
            "              ReLU-6          [128, 64, 16, 16]               0\n",
            "       BatchNorm2d-7          [128, 64, 16, 16]             128\n",
            "         MaxPool2d-8            [128, 64, 4, 4]               0\n",
            "            Conv2d-9           [128, 128, 4, 4]          73,856\n",
            "             ReLU-10           [128, 128, 4, 4]               0\n",
            "      BatchNorm2d-11           [128, 128, 4, 4]             256\n",
            "        MaxPool2d-12           [128, 128, 2, 2]               0\n",
            "          Flatten-13                 [128, 512]               0\n",
            "           Linear-14                  [128, 64]          32,832\n",
            "        Dropout1d-15                  [128, 64]               0\n",
            "           Linear-16                  [128, 10]             650\n",
            "================================================================\n",
            "Total params: 126,602\n",
            "Trainable params: 126,602\n",
            "Non-trainable params: 0\n",
            "----------------------------------------------------------------\n",
            "Input size (MB): 0.50\n",
            "Forward/backward pass size (MB): 160.13\n",
            "Params size (MB): 0.48\n",
            "Estimated Total Size (MB): 161.12\n",
            "----------------------------------------------------------------\n"
          ]
        },
        {
          "output_type": "execute_result",
          "data": {
            "text/plain": [
              "LeNet(\n",
              "  (conv_layers): Sequential(\n",
              "    (0): Conv2d(1, 32, kernel_size=(3, 3), stride=(1, 1), padding=(1, 1))\n",
              "    (1): ReLU()\n",
              "    (2): BatchNorm2d(32, eps=1e-05, momentum=0.1, affine=True, track_running_stats=True)\n",
              "    (3): MaxPool2d(kernel_size=2, stride=2, padding=0, dilation=1, ceil_mode=False)\n",
              "    (4): Conv2d(32, 64, kernel_size=(3, 3), stride=(1, 1), padding=(1, 1))\n",
              "    (5): ReLU()\n",
              "    (6): BatchNorm2d(64, eps=1e-05, momentum=0.1, affine=True, track_running_stats=True)\n",
              "    (7): MaxPool2d(kernel_size=4, stride=4, padding=0, dilation=1, ceil_mode=False)\n",
              "    (8): Conv2d(64, 128, kernel_size=(3, 3), stride=(1, 1), padding=(1, 1))\n",
              "    (9): ReLU()\n",
              "    (10): BatchNorm2d(128, eps=1e-05, momentum=0.1, affine=True, track_running_stats=True)\n",
              "    (11): MaxPool2d(kernel_size=2, stride=2, padding=0, dilation=1, ceil_mode=False)\n",
              "  )\n",
              "  (fc_layer): Sequential(\n",
              "    (0): Flatten(start_dim=1, end_dim=-1)\n",
              "    (1): Linear(in_features=512, out_features=64, bias=True)\n",
              "    (2): Dropout1d(p=0.3, inplace=False)\n",
              "    (3): Linear(in_features=64, out_features=10, bias=True)\n",
              "  )\n",
              ")"
            ]
          },
          "metadata": {},
          "execution_count": 6
        }
      ]
    },
    {
      "cell_type": "markdown",
      "source": [
        "`Hyperpaarameter & B.P Function Definition `\n",
        "\n"
      ],
      "metadata": {
        "id": "JSklj3TeVdw1"
      }
    },
    {
      "cell_type": "code",
      "source": [
        "EPOCHS=10\n",
        "LR=1e-4\n",
        "MAX_LR=1e-2\n",
        "BATCH_SIZE=128\n",
        "\n",
        "criterion = nn.CrossEntropyLoss()\n",
        "optimizer = Adam(params=network.parameters(), lr=LR, weight_decay=.002)\n",
        "lr_scheduler = OneCycleLR(optimizer=optimizer, max_lr=MAX_LR, steps_per_epoch=BATCH_SIZE, epochs=EPOCHS)"
      ],
      "metadata": {
        "id": "3ElCD4hpVbLP"
      },
      "execution_count": 7,
      "outputs": []
    },
    {
      "cell_type": "markdown",
      "source": [
        "`Accuracy function definition `"
      ],
      "metadata": {
        "id": "-ROXGEDsYMia"
      }
    },
    {
      "cell_type": "code",
      "source": [
        "@torch.no_grad()\n",
        "def accuracy(model, data_loader, criterion):\n",
        "    acc_count = 0\n",
        "    total_preds = 0\n",
        "    total_loss = 0.0\n",
        "\n",
        "    model.eval()\n",
        "\n",
        "    for data, target in data_loader:\n",
        "        data, target = data.to(device), target.to(device)\n",
        "        pred = model(data)\n",
        "        formated_pred = torch.argmax(pred, dim=1)\n",
        "\n",
        "        acc_count += (formated_pred == target).sum().item()\n",
        "        total_preds += len(target)\n",
        "\n",
        "        loss = criterion(pred, target)\n",
        "        total_loss += loss.item()\n",
        "\n",
        "    if total_preds == 0:\n",
        "        return 0.0, None\n",
        "\n",
        "    avg_loss = total_loss / len(data_loader)\n",
        "    accuracy_percentage = (acc_count / total_preds) * 100\n",
        "\n",
        "    return accuracy_percentage, avg_loss"
      ],
      "metadata": {
        "id": "bXLhHKTlYXGG"
      },
      "execution_count": 8,
      "outputs": []
    },
    {
      "cell_type": "code",
      "source": [
        "wandb.init(project=\"LeNet\", config={\n",
        "    \"epochs\": EPOCHS,\n",
        "    \"learning_rate\": optimizer.param_groups[0]['lr'],\n",
        "})\n",
        "\n",
        "\n",
        "def train(model, epochs, train_dl, val_dl, criterion, optimizer, lr_scheduler):\n",
        "    model.train()\n",
        "\n",
        "    for epoch in range(epochs):\n",
        "        for data, target in test_dl:\n",
        "            data, target = data.to(device), target.to(device)\n",
        "\n",
        "            optimizer.zero_grad()\n",
        "            pred = model(data)\n",
        "\n",
        "            loss = criterion(pred, target)\n",
        "            loss.backward()\n",
        "            optimizer.step()\n",
        "            lr_scheduler.step()\n",
        "\n",
        "            wandb.log({\n",
        "                \"train_loss\": loss.item(),\n",
        "                \"learning_rate\": optimizer.param_groups[0]['lr']\n",
        "            })\n",
        "\n",
        "\n",
        "        ### validation phase\n",
        "        val_acc, val_loss = accuracy(model, val_dl, criterion)\n",
        "        wandb.log({\"val_loss\": val_loss, \"val_acc\": val_acc})\n",
        "\n",
        "        wandb.watch(model, criterion, log=\"all\")\n",
        "\n",
        "    wandb.finish()"
      ],
      "metadata": {
        "colab": {
          "base_uri": "https://localhost:8080/",
          "height": 191
        },
        "id": "h0IUH--Nbkik",
        "outputId": "da8166cf-6708-4bcd-bdc5-f9964a7e2d3d"
      },
      "execution_count": 10,
      "outputs": [
        {
          "output_type": "display_data",
          "data": {
            "text/plain": [
              "<IPython.core.display.Javascript object>"
            ],
            "application/javascript": [
              "\n",
              "        window._wandbApiKey = new Promise((resolve, reject) => {\n",
              "            function loadScript(url) {\n",
              "            return new Promise(function(resolve, reject) {\n",
              "                let newScript = document.createElement(\"script\");\n",
              "                newScript.onerror = reject;\n",
              "                newScript.onload = resolve;\n",
              "                document.body.appendChild(newScript);\n",
              "                newScript.src = url;\n",
              "            });\n",
              "            }\n",
              "            loadScript(\"https://cdn.jsdelivr.net/npm/postmate/build/postmate.min.js\").then(() => {\n",
              "            const iframe = document.createElement('iframe')\n",
              "            iframe.style.cssText = \"width:0;height:0;border:none\"\n",
              "            document.body.appendChild(iframe)\n",
              "            const handshake = new Postmate({\n",
              "                container: iframe,\n",
              "                url: 'https://wandb.ai/authorize'\n",
              "            });\n",
              "            const timeout = setTimeout(() => reject(\"Couldn't auto authenticate\"), 5000)\n",
              "            handshake.then(function(child) {\n",
              "                child.on('authorize', data => {\n",
              "                    clearTimeout(timeout)\n",
              "                    resolve(data)\n",
              "                });\n",
              "            });\n",
              "            })\n",
              "        });\n",
              "    "
            ]
          },
          "metadata": {}
        },
        {
          "output_type": "stream",
          "name": "stderr",
          "text": [
            "\u001b[34m\u001b[1mwandb\u001b[0m: Logging into wandb.ai. (Learn how to deploy a W&B server locally: https://wandb.me/wandb-server)\n",
            "\u001b[34m\u001b[1mwandb\u001b[0m: You can find your API key in your browser here: https://wandb.ai/authorize\n",
            "wandb: Paste an API key from your profile and hit enter, or press ctrl+c to quit:"
          ]
        },
        {
          "name": "stdout",
          "output_type": "stream",
          "text": [
            " ··········\n"
          ]
        },
        {
          "output_type": "stream",
          "name": "stderr",
          "text": [
            "\u001b[34m\u001b[1mwandb\u001b[0m: Appending key for api.wandb.ai to your netrc file: /root/.netrc\n"
          ]
        },
        {
          "output_type": "display_data",
          "data": {
            "text/plain": [
              "<IPython.core.display.HTML object>"
            ],
            "text/html": [
              "Tracking run with wandb version 0.18.0"
            ]
          },
          "metadata": {}
        },
        {
          "output_type": "display_data",
          "data": {
            "text/plain": [
              "<IPython.core.display.HTML object>"
            ],
            "text/html": [
              "Run data is saved locally in <code>/content/wandb/run-20240915_212204-9m3w7fyi</code>"
            ]
          },
          "metadata": {}
        },
        {
          "output_type": "display_data",
          "data": {
            "text/plain": [
              "<IPython.core.display.HTML object>"
            ],
            "text/html": [
              "Syncing run <strong><a href='https://wandb.ai/sccsmartcode-prometheus-/LeNet/runs/9m3w7fyi' target=\"_blank\">avid-butterfly-1</a></strong> to <a href='https://wandb.ai/sccsmartcode-prometheus-/LeNet' target=\"_blank\">Weights & Biases</a> (<a href='https://wandb.me/run' target=\"_blank\">docs</a>)<br/>"
            ]
          },
          "metadata": {}
        },
        {
          "output_type": "display_data",
          "data": {
            "text/plain": [
              "<IPython.core.display.HTML object>"
            ],
            "text/html": [
              " View project at <a href='https://wandb.ai/sccsmartcode-prometheus-/LeNet' target=\"_blank\">https://wandb.ai/sccsmartcode-prometheus-/LeNet</a>"
            ]
          },
          "metadata": {}
        },
        {
          "output_type": "display_data",
          "data": {
            "text/plain": [
              "<IPython.core.display.HTML object>"
            ],
            "text/html": [
              " View run at <a href='https://wandb.ai/sccsmartcode-prometheus-/LeNet/runs/9m3w7fyi' target=\"_blank\">https://wandb.ai/sccsmartcode-prometheus-/LeNet/runs/9m3w7fyi</a>"
            ]
          },
          "metadata": {}
        }
      ]
    },
    {
      "cell_type": "code",
      "source": [
        "train(network, EPOCHS, train_dl, valid_dl, criterion, optimizer, lr_scheduler)"
      ],
      "metadata": {
        "colab": {
          "base_uri": "https://localhost:8080/",
          "height": 269,
          "referenced_widgets": [
            "4b69bf07cb3a420c972ddf6d8264dfd6",
            "06080f4ee7d5462db2abab01069bbdae",
            "f00b22d37ed34109868766caffbefee9",
            "dc43322e5e1546e8a186bd9e492136ec",
            "be49fa9559ac4d0d9fe43a2a3f360bf9",
            "1111d5aea4244af48e46e6d56d8225a3",
            "3fd4cbb15f91434284c519fd3cba328b",
            "9f4498aa22ea4edaa017e528c39e73b2"
          ]
        },
        "id": "xIzF4h9WeBRg",
        "outputId": "d9083966-42db-49c7-aa6b-9f78e89e1083"
      },
      "execution_count": 11,
      "outputs": [
        {
          "output_type": "display_data",
          "data": {
            "text/plain": [
              "VBox(children=(Label(value='0.035 MB of 0.035 MB uploaded\\r'), FloatProgress(value=1.0, max=1.0)))"
            ],
            "application/vnd.jupyter.widget-view+json": {
              "version_major": 2,
              "version_minor": 0,
              "model_id": "4b69bf07cb3a420c972ddf6d8264dfd6"
            }
          },
          "metadata": {}
        },
        {
          "output_type": "display_data",
          "data": {
            "text/plain": [
              "<IPython.core.display.HTML object>"
            ],
            "text/html": [
              "<style>\n",
              "    table.wandb td:nth-child(1) { padding: 0 10px; text-align: left ; width: auto;} td:nth-child(2) {text-align: left ; width: 100%}\n",
              "    .wandb-row { display: flex; flex-direction: row; flex-wrap: wrap; justify-content: flex-start; width: 100% }\n",
              "    .wandb-col { display: flex; flex-direction: column; flex-basis: 100%; flex: 1; padding: 10px; }\n",
              "    </style>\n",
              "<div class=\"wandb-row\"><div class=\"wandb-col\"><h3>Run history:</h3><br/><table class=\"wandb\"><tr><td>learning_rate</td><td>▁▁▁▁▁▂▃▃▄▄▅▅▆▆▆▇██████████████▇▇▇▇▆▆▆▅▅▅</td></tr><tr><td>train_loss</td><td>█▄▂▂▁▁▁▁▁▁▁▂▁▂▂▂▁▁▁▂▁▁▁▁▁▁▁▁▁▁▁▁▁▁▁▁▁▁▁▁</td></tr><tr><td>val_acc</td><td>▆▂▆▁▃▇████</td></tr><tr><td>val_loss</td><td>▃▅▂█▅▁▁▁▁▁</td></tr></table><br/></div><div class=\"wandb-col\"><h3>Run summary:</h3><br/><table class=\"wandb\"><tr><td>learning_rate</td><td>0.00589</td></tr><tr><td>train_loss</td><td>0.02285</td></tr><tr><td>val_acc</td><td>97.09535</td></tr><tr><td>val_loss</td><td>0.09437</td></tr></table><br/></div></div>"
            ]
          },
          "metadata": {}
        },
        {
          "output_type": "display_data",
          "data": {
            "text/plain": [
              "<IPython.core.display.HTML object>"
            ],
            "text/html": [
              " View run <strong style=\"color:#cdcd00\">avid-butterfly-1</strong> at: <a href='https://wandb.ai/sccsmartcode-prometheus-/LeNet/runs/9m3w7fyi' target=\"_blank\">https://wandb.ai/sccsmartcode-prometheus-/LeNet/runs/9m3w7fyi</a><br/> View project at: <a href='https://wandb.ai/sccsmartcode-prometheus-/LeNet' target=\"_blank\">https://wandb.ai/sccsmartcode-prometheus-/LeNet</a><br/>Synced 5 W&B file(s), 0 media file(s), 0 artifact file(s) and 0 other file(s)"
            ]
          },
          "metadata": {}
        },
        {
          "output_type": "display_data",
          "data": {
            "text/plain": [
              "<IPython.core.display.HTML object>"
            ],
            "text/html": [
              "Find logs at: <code>./wandb/run-20240915_212204-9m3w7fyi/logs</code>"
            ]
          },
          "metadata": {}
        }
      ]
    },
    {
      "cell_type": "markdown",
      "source": [
        "`Network Inference`"
      ],
      "metadata": {
        "id": "l7HVkxkhhDGn"
      }
    },
    {
      "cell_type": "code",
      "source": [
        "def test(model, test_loader, criterion):\n",
        "    accuracy_percentage, avg_loss = accuracy(model, test_loader, criterion)\n",
        "\n",
        "    print(f\"Test Results:\\n\"\n",
        "          f\"{'='*30}\\n\"\n",
        "          f\"Accuracy: {accuracy_percentage:.2f}%\\n\"\n",
        "          f\"Average Loss: {avg_loss:.4f}\\n\"\n",
        "          f\"{'='*30}\")"
      ],
      "metadata": {
        "id": "XGMbKbwMhAyh"
      },
      "execution_count": 12,
      "outputs": []
    },
    {
      "cell_type": "code",
      "source": [
        "test(network, test_dl, criterion)"
      ],
      "metadata": {
        "colab": {
          "base_uri": "https://localhost:8080/"
        },
        "id": "q7vSEqoviH_s",
        "outputId": "5856cfae-7a1c-4239-fbeb-05ef92fee932"
      },
      "execution_count": 14,
      "outputs": [
        {
          "output_type": "stream",
          "name": "stdout",
          "text": [
            "Test Results:\n",
            "==============================\n",
            "Accuracy: 99.16%\n",
            "Average Loss: 0.0253\n",
            "==============================\n"
          ]
        }
      ]
    },
    {
      "cell_type": "code",
      "source": [
        "torch.save(network.state_dict(), '/content/drive/MyDrive/Deep Learning/LeNet/parameter.pth')"
      ],
      "metadata": {
        "id": "0cBIgn4tlOSQ"
      },
      "execution_count": 15,
      "outputs": []
    }
  ],
  "metadata": {
    "colab": {
      "provenance": [],
      "gpuType": "T4",
      "mount_file_id": "1i8zT9p_0SLJsjH1wrqfQhkLDWPoe0jJF",
      "authorship_tag": "ABX9TyPVI6plhyf2wFGW6yDCeX/Q",
      "include_colab_link": true
    },
    "kernelspec": {
      "display_name": "Python 3",
      "name": "python3"
    },
    "language_info": {
      "name": "python"
    },
    "accelerator": "GPU",
    "widgets": {
      "application/vnd.jupyter.widget-state+json": {
        "4b69bf07cb3a420c972ddf6d8264dfd6": {
          "model_module": "@jupyter-widgets/controls",
          "model_name": "VBoxModel",
          "model_module_version": "1.5.0",
          "state": {
            "_dom_classes": [],
            "_model_module": "@jupyter-widgets/controls",
            "_model_module_version": "1.5.0",
            "_model_name": "VBoxModel",
            "_view_count": null,
            "_view_module": "@jupyter-widgets/controls",
            "_view_module_version": "1.5.0",
            "_view_name": "VBoxView",
            "box_style": "",
            "children": [
              "IPY_MODEL_06080f4ee7d5462db2abab01069bbdae",
              "IPY_MODEL_f00b22d37ed34109868766caffbefee9"
            ],
            "layout": "IPY_MODEL_dc43322e5e1546e8a186bd9e492136ec"
          }
        },
        "06080f4ee7d5462db2abab01069bbdae": {
          "model_module": "@jupyter-widgets/controls",
          "model_name": "LabelModel",
          "model_module_version": "1.5.0",
          "state": {
            "_dom_classes": [],
            "_model_module": "@jupyter-widgets/controls",
            "_model_module_version": "1.5.0",
            "_model_name": "LabelModel",
            "_view_count": null,
            "_view_module": "@jupyter-widgets/controls",
            "_view_module_version": "1.5.0",
            "_view_name": "LabelView",
            "description": "",
            "description_tooltip": null,
            "layout": "IPY_MODEL_be49fa9559ac4d0d9fe43a2a3f360bf9",
            "placeholder": "​",
            "style": "IPY_MODEL_1111d5aea4244af48e46e6d56d8225a3",
            "value": "0.035 MB of 0.035 MB uploaded\r"
          }
        },
        "f00b22d37ed34109868766caffbefee9": {
          "model_module": "@jupyter-widgets/controls",
          "model_name": "FloatProgressModel",
          "model_module_version": "1.5.0",
          "state": {
            "_dom_classes": [],
            "_model_module": "@jupyter-widgets/controls",
            "_model_module_version": "1.5.0",
            "_model_name": "FloatProgressModel",
            "_view_count": null,
            "_view_module": "@jupyter-widgets/controls",
            "_view_module_version": "1.5.0",
            "_view_name": "ProgressView",
            "bar_style": "",
            "description": "",
            "description_tooltip": null,
            "layout": "IPY_MODEL_3fd4cbb15f91434284c519fd3cba328b",
            "max": 1,
            "min": 0,
            "orientation": "horizontal",
            "style": "IPY_MODEL_9f4498aa22ea4edaa017e528c39e73b2",
            "value": 1
          }
        },
        "dc43322e5e1546e8a186bd9e492136ec": {
          "model_module": "@jupyter-widgets/base",
          "model_name": "LayoutModel",
          "model_module_version": "1.2.0",
          "state": {
            "_model_module": "@jupyter-widgets/base",
            "_model_module_version": "1.2.0",
            "_model_name": "LayoutModel",
            "_view_count": null,
            "_view_module": "@jupyter-widgets/base",
            "_view_module_version": "1.2.0",
            "_view_name": "LayoutView",
            "align_content": null,
            "align_items": null,
            "align_self": null,
            "border": null,
            "bottom": null,
            "display": null,
            "flex": null,
            "flex_flow": null,
            "grid_area": null,
            "grid_auto_columns": null,
            "grid_auto_flow": null,
            "grid_auto_rows": null,
            "grid_column": null,
            "grid_gap": null,
            "grid_row": null,
            "grid_template_areas": null,
            "grid_template_columns": null,
            "grid_template_rows": null,
            "height": null,
            "justify_content": null,
            "justify_items": null,
            "left": null,
            "margin": null,
            "max_height": null,
            "max_width": null,
            "min_height": null,
            "min_width": null,
            "object_fit": null,
            "object_position": null,
            "order": null,
            "overflow": null,
            "overflow_x": null,
            "overflow_y": null,
            "padding": null,
            "right": null,
            "top": null,
            "visibility": null,
            "width": null
          }
        },
        "be49fa9559ac4d0d9fe43a2a3f360bf9": {
          "model_module": "@jupyter-widgets/base",
          "model_name": "LayoutModel",
          "model_module_version": "1.2.0",
          "state": {
            "_model_module": "@jupyter-widgets/base",
            "_model_module_version": "1.2.0",
            "_model_name": "LayoutModel",
            "_view_count": null,
            "_view_module": "@jupyter-widgets/base",
            "_view_module_version": "1.2.0",
            "_view_name": "LayoutView",
            "align_content": null,
            "align_items": null,
            "align_self": null,
            "border": null,
            "bottom": null,
            "display": null,
            "flex": null,
            "flex_flow": null,
            "grid_area": null,
            "grid_auto_columns": null,
            "grid_auto_flow": null,
            "grid_auto_rows": null,
            "grid_column": null,
            "grid_gap": null,
            "grid_row": null,
            "grid_template_areas": null,
            "grid_template_columns": null,
            "grid_template_rows": null,
            "height": null,
            "justify_content": null,
            "justify_items": null,
            "left": null,
            "margin": null,
            "max_height": null,
            "max_width": null,
            "min_height": null,
            "min_width": null,
            "object_fit": null,
            "object_position": null,
            "order": null,
            "overflow": null,
            "overflow_x": null,
            "overflow_y": null,
            "padding": null,
            "right": null,
            "top": null,
            "visibility": null,
            "width": null
          }
        },
        "1111d5aea4244af48e46e6d56d8225a3": {
          "model_module": "@jupyter-widgets/controls",
          "model_name": "DescriptionStyleModel",
          "model_module_version": "1.5.0",
          "state": {
            "_model_module": "@jupyter-widgets/controls",
            "_model_module_version": "1.5.0",
            "_model_name": "DescriptionStyleModel",
            "_view_count": null,
            "_view_module": "@jupyter-widgets/base",
            "_view_module_version": "1.2.0",
            "_view_name": "StyleView",
            "description_width": ""
          }
        },
        "3fd4cbb15f91434284c519fd3cba328b": {
          "model_module": "@jupyter-widgets/base",
          "model_name": "LayoutModel",
          "model_module_version": "1.2.0",
          "state": {
            "_model_module": "@jupyter-widgets/base",
            "_model_module_version": "1.2.0",
            "_model_name": "LayoutModel",
            "_view_count": null,
            "_view_module": "@jupyter-widgets/base",
            "_view_module_version": "1.2.0",
            "_view_name": "LayoutView",
            "align_content": null,
            "align_items": null,
            "align_self": null,
            "border": null,
            "bottom": null,
            "display": null,
            "flex": null,
            "flex_flow": null,
            "grid_area": null,
            "grid_auto_columns": null,
            "grid_auto_flow": null,
            "grid_auto_rows": null,
            "grid_column": null,
            "grid_gap": null,
            "grid_row": null,
            "grid_template_areas": null,
            "grid_template_columns": null,
            "grid_template_rows": null,
            "height": null,
            "justify_content": null,
            "justify_items": null,
            "left": null,
            "margin": null,
            "max_height": null,
            "max_width": null,
            "min_height": null,
            "min_width": null,
            "object_fit": null,
            "object_position": null,
            "order": null,
            "overflow": null,
            "overflow_x": null,
            "overflow_y": null,
            "padding": null,
            "right": null,
            "top": null,
            "visibility": null,
            "width": null
          }
        },
        "9f4498aa22ea4edaa017e528c39e73b2": {
          "model_module": "@jupyter-widgets/controls",
          "model_name": "ProgressStyleModel",
          "model_module_version": "1.5.0",
          "state": {
            "_model_module": "@jupyter-widgets/controls",
            "_model_module_version": "1.5.0",
            "_model_name": "ProgressStyleModel",
            "_view_count": null,
            "_view_module": "@jupyter-widgets/base",
            "_view_module_version": "1.2.0",
            "_view_name": "StyleView",
            "bar_color": null,
            "description_width": ""
          }
        }
      }
    }
  },
  "nbformat": 4,
  "nbformat_minor": 0
}