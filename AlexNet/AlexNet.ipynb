{
  "cells": [
    {
      "cell_type": "markdown",
      "metadata": {
        "id": "view-in-github",
        "colab_type": "text"
      },
      "source": [
        "<a href=\"https://colab.research.google.com/github/SCCSMARTCODE/Deep-Learning-00/blob/main/AlexNet/AlexNet.ipynb\" target=\"_parent\"><img src=\"https://colab.research.google.com/assets/colab-badge.svg\" alt=\"Open In Colab\"/></a>"
      ]
    },
    {
      "cell_type": "markdown",
      "metadata": {
        "id": "RsMqn_Ugt24f"
      },
      "source": [
        "# **AlexNet**\n",
        "\n",
        "------\n",
        "### **Milestone 1: Dataset Preparation**\n",
        " - [x] Kaggle Dataset\n",
        " - [x] Data Preprocessing\n",
        " - [x] Set up DataLoader\n",
        "\n",
        "---\n",
        "\n",
        "### **Milestone 2: Data Augmentation Techniques**\n",
        "\n",
        "   - [x] Horizontal flip (mirror)\n",
        "   - [x] Random rotation\n",
        "   - [x] Color jitter\n",
        "   - [x] Scaling\n",
        "\n",
        "---\n",
        "\n",
        "### **Milestone 3: AlexNet Implementation**\n",
        "---\n",
        "### **Milestone 4: Regularization Techniques**\n",
        " - [x] Weight Decay (L2 Regularization):\n",
        " - [x] Dropout:\n",
        " - [ ] Early Stopping:\n",
        " - [x] Batch Normalization:\n",
        "---\n",
        "### **Milestone 5: Model Training**\n",
        " - [x] One Cycle Learning Rate\n",
        " - [x] Training the Model:\n",
        "---\n",
        "### **Milestone 6: Model Evaluation**\n",
        " - [x] Accuracy and Loss Curves:\n",
        " - [ ] Confusion Matrix:\n",
        " - [ ] Precision, Recall, and F1-Score:\n",
        "---\n",
        "### **Milestone 7: Hyperparameter Tuning**\n",
        " - [x] Optimizer Tuning:\n",
        " - [x] Batch Size and Epochs:\n",
        " - [x] Augmentation Tuning:"
      ]
    },
    {
      "cell_type": "markdown",
      "metadata": {
        "id": "86EgvrZiwwvr"
      },
      "source": [
        "# **```Dataset Preparation```**\n",
        "\n",
        "- [ ] Fetching data from Kaggle\n",
        "- [ ] Implement data fetching from **ALEXNET_RESOURCES_PATH**"
      ]
    },
    {
      "cell_type": "code",
      "execution_count": null,
      "metadata": {
        "colab": {
          "base_uri": "https://localhost:8080/"
        },
        "id": "vSpmENX4sd3j",
        "outputId": "feffb063-e5c7-400c-8980-d5b8678dc4bd"
      },
      "outputs": [
        {
          "name": "stdout",
          "output_type": "stream",
          "text": [
            "Archive:  dogs-vs-cats.zip\n",
            "  inflating: sampleSubmission.csv    \n",
            "  inflating: test1.zip               \n",
            "  inflating: train.zip               \n"
          ]
        }
      ],
      "source": [
        "# API_KEY_PATH=\"./drive/MyDrive/Deep_Learning/kaggle.json\"\n",
        "# ALEXNET_RESOURCES_PATH=\"/content/drive/MyDrive/Deep_Learning/AlexNet\"\n",
        "\n",
        "# !mkdir -p ~/.kaggle\n",
        "# !cp $API_KEY_PATH ~/.kaggle/\n",
        "# !chmod 600 ~/.kaggle/kaggle.json\n",
        "\n",
        "# !pip install kaggle\n",
        "# !kaggle competitions download -c dogs-vs-cats\n",
        "\n",
        "# !cp dogs-vs-cats.zip $ALEXNET_RESOURCES_PATH\n",
        "\n",
        "# !unzip dogs-vs-cats.zip"
      ]
    },
    {
      "cell_type": "code",
      "execution_count": null,
      "metadata": {
        "id": "IP9poNQ02rbd"
      },
      "outputs": [],
      "source": [
        "ALEXNET_DATASET_PATH = \"/content/drive/MyDrive/Deep_Learning/AlexNet/dogs-vs-cats.zip\"\n",
        "TRAIN_DATA_PATH=\"/content/train.zip\"\n",
        "TEST_DATA_PATH=\"/content/test1.zip\"\n",
        "\n",
        "!cp $ALEXNET_DATASET_PATH .\n",
        "!unzip dogs-vs-cats.zip\n",
        "!unzip $TRAIN_DATA_PATH\n",
        "!unzip $TEST_DATA_PATH"
      ]
    },
    {
      "cell_type": "markdown",
      "metadata": {
        "id": "cmxRLvzBEXWa"
      },
      "source": [
        "# **```Importing Dependencies```**"
      ]
    },
    {
      "cell_type": "code",
      "execution_count": null,
      "metadata": {
        "colab": {
          "base_uri": "https://localhost:8080/"
        },
        "id": "i07jyttcc_s1",
        "outputId": "45a644df-677c-48d9-d68f-287d31e8fb55"
      },
      "outputs": [
        {
          "name": "stdout",
          "output_type": "stream",
          "text": [
            "Collecting wandb\n",
            "  Downloading wandb-0.18.1-py3-none-manylinux_2_17_x86_64.manylinux2014_x86_64.whl.metadata (9.6 kB)\n",
            "Requirement already satisfied: click!=8.0.0,>=7.1 in /usr/local/lib/python3.10/dist-packages (from wandb) (8.1.7)\n",
            "Collecting docker-pycreds>=0.4.0 (from wandb)\n",
            "  Downloading docker_pycreds-0.4.0-py2.py3-none-any.whl.metadata (1.8 kB)\n",
            "Collecting gitpython!=3.1.29,>=1.0.0 (from wandb)\n",
            "  Downloading GitPython-3.1.43-py3-none-any.whl.metadata (13 kB)\n",
            "Requirement already satisfied: platformdirs in /usr/local/lib/python3.10/dist-packages (from wandb) (4.3.3)\n",
            "Requirement already satisfied: protobuf!=4.21.0,!=5.28.0,<6,>=3.19.0 in /usr/local/lib/python3.10/dist-packages (from wandb) (3.20.3)\n",
            "Requirement already satisfied: psutil>=5.0.0 in /usr/local/lib/python3.10/dist-packages (from wandb) (5.9.5)\n",
            "Requirement already satisfied: pyyaml in /usr/local/lib/python3.10/dist-packages (from wandb) (6.0.2)\n",
            "Requirement already satisfied: requests<3,>=2.0.0 in /usr/local/lib/python3.10/dist-packages (from wandb) (2.32.3)\n",
            "Collecting sentry-sdk>=1.0.0 (from wandb)\n",
            "  Downloading sentry_sdk-2.14.0-py2.py3-none-any.whl.metadata (9.7 kB)\n",
            "Collecting setproctitle (from wandb)\n",
            "  Downloading setproctitle-1.3.3-cp310-cp310-manylinux_2_5_x86_64.manylinux1_x86_64.manylinux_2_17_x86_64.manylinux2014_x86_64.whl.metadata (9.9 kB)\n",
            "Requirement already satisfied: setuptools in /usr/local/lib/python3.10/dist-packages (from wandb) (71.0.4)\n",
            "Requirement already satisfied: six>=1.4.0 in /usr/local/lib/python3.10/dist-packages (from docker-pycreds>=0.4.0->wandb) (1.16.0)\n",
            "Collecting gitdb<5,>=4.0.1 (from gitpython!=3.1.29,>=1.0.0->wandb)\n",
            "  Downloading gitdb-4.0.11-py3-none-any.whl.metadata (1.2 kB)\n",
            "Requirement already satisfied: charset-normalizer<4,>=2 in /usr/local/lib/python3.10/dist-packages (from requests<3,>=2.0.0->wandb) (3.3.2)\n",
            "Requirement already satisfied: idna<4,>=2.5 in /usr/local/lib/python3.10/dist-packages (from requests<3,>=2.0.0->wandb) (3.10)\n",
            "Requirement already satisfied: urllib3<3,>=1.21.1 in /usr/local/lib/python3.10/dist-packages (from requests<3,>=2.0.0->wandb) (2.0.7)\n",
            "Requirement already satisfied: certifi>=2017.4.17 in /usr/local/lib/python3.10/dist-packages (from requests<3,>=2.0.0->wandb) (2024.8.30)\n",
            "Collecting smmap<6,>=3.0.1 (from gitdb<5,>=4.0.1->gitpython!=3.1.29,>=1.0.0->wandb)\n",
            "  Downloading smmap-5.0.1-py3-none-any.whl.metadata (4.3 kB)\n",
            "Downloading wandb-0.18.1-py3-none-manylinux_2_17_x86_64.manylinux2014_x86_64.whl (9.7 MB)\n",
            "\u001b[2K   \u001b[90m━━━━━━━━━━━━━━━━━━━━━━━━━━━━━━━━━━━━━━━━\u001b[0m \u001b[32m9.7/9.7 MB\u001b[0m \u001b[31m84.5 MB/s\u001b[0m eta \u001b[36m0:00:00\u001b[0m\n",
            "\u001b[?25hDownloading docker_pycreds-0.4.0-py2.py3-none-any.whl (9.0 kB)\n",
            "Downloading GitPython-3.1.43-py3-none-any.whl (207 kB)\n",
            "\u001b[2K   \u001b[90m━━━━━━━━━━━━━━━━━━━━━━━━━━━━━━━━━━━━━━━━\u001b[0m \u001b[32m207.3/207.3 kB\u001b[0m \u001b[31m17.8 MB/s\u001b[0m eta \u001b[36m0:00:00\u001b[0m\n",
            "\u001b[?25hDownloading sentry_sdk-2.14.0-py2.py3-none-any.whl (311 kB)\n",
            "\u001b[2K   \u001b[90m━━━━━━━━━━━━━━━━━━━━━━━━━━━━━━━━━━━━━━━━\u001b[0m \u001b[32m311.4/311.4 kB\u001b[0m \u001b[31m25.0 MB/s\u001b[0m eta \u001b[36m0:00:00\u001b[0m\n",
            "\u001b[?25hDownloading setproctitle-1.3.3-cp310-cp310-manylinux_2_5_x86_64.manylinux1_x86_64.manylinux_2_17_x86_64.manylinux2014_x86_64.whl (30 kB)\n",
            "Downloading gitdb-4.0.11-py3-none-any.whl (62 kB)\n",
            "\u001b[2K   \u001b[90m━━━━━━━━━━━━━━━━━━━━━━━━━━━━━━━━━━━━━━━━\u001b[0m \u001b[32m62.7/62.7 kB\u001b[0m \u001b[31m4.7 MB/s\u001b[0m eta \u001b[36m0:00:00\u001b[0m\n",
            "\u001b[?25hDownloading smmap-5.0.1-py3-none-any.whl (24 kB)\n",
            "Installing collected packages: smmap, setproctitle, sentry-sdk, docker-pycreds, gitdb, gitpython, wandb\n",
            "Successfully installed docker-pycreds-0.4.0 gitdb-4.0.11 gitpython-3.1.43 sentry-sdk-2.14.0 setproctitle-1.3.3 smmap-5.0.1 wandb-0.18.1\n"
          ]
        }
      ],
      "source": [
        "%pip install wandb"
      ]
    },
    {
      "cell_type": "code",
      "execution_count": null,
      "metadata": {
        "id": "RSHghTIxEWL_"
      },
      "outputs": [],
      "source": [
        "from torchvision.io import read_image\n",
        "import os\n",
        "import torch\n",
        "from torchvision import transforms as tt\n",
        "from torch.utils.data import Dataset, DataLoader, random_split\n",
        "from typing import Iterator\n",
        "from torch import nn\n",
        "from torchsummary import summary\n",
        "from torch.optim import Adam\n",
        "from torch.optim.lr_scheduler import OneCycleLR\n",
        "import wandb"
      ]
    },
    {
      "cell_type": "markdown",
      "metadata": {
        "id": "ikYT0kSFDhXk"
      },
      "source": [
        "# **```Loading Dataset```**"
      ]
    },
    {
      "cell_type": "code",
      "execution_count": 45,
      "metadata": {
        "id": "LKuetTcc8xph"
      },
      "outputs": [],
      "source": [
        "class DogVSCatDataset(Dataset):\n",
        "    def __init__(self, path=\"/content/train\", transform=None):\n",
        "        self.path = path\n",
        "        self.files = os.listdir(self.path)\n",
        "        self.transform = transform\n",
        "\n",
        "    def __len__(self):\n",
        "        return len(self.files)\n",
        "\n",
        "    def __getitem__(self, idx):\n",
        "        file_name = self.files[idx]\n",
        "        image_class = torch.tensor(1 if 'dog' in file_name else 0, dtype=torch.float)\n",
        "        image_data = read_image(os.path.join(self.path, file_name)) / 255.0\n",
        "\n",
        "        if self.transform:\n",
        "            image_data = self.transform(image_data)\n",
        "\n",
        "        return image_data, image_class\n",
        "\n",
        "\n",
        "def load_on_device(device: str, dataloader: DataLoader) -> Iterator[torch.Tensor]:\n",
        "    try:\n",
        "        for batch_data in dataloader:\n",
        "            inputs, targets = batch_data\n",
        "            inputs, targets = inputs.to(device), targets.to(device)\n",
        "            yield inputs, targets\n",
        "\n",
        "            del inputs, targets\n",
        "            torch.cuda.empty_cache()\n",
        "    except RuntimeError as e:\n",
        "        print(f\"Error loading data on {device}: {e}\")"
      ]
    },
    {
      "cell_type": "code",
      "execution_count": 53,
      "metadata": {
        "id": "YB8dO58cJnZr"
      },
      "outputs": [],
      "source": [
        "transforms = tt.Compose([\n",
        "    tt.Resize((227, 227)),\n",
        "    tt.Normalize(mean=[0.485, 0.456, 0.406], std=[0.229, 0.224, 0.225]),\n",
        "    tt.RandomHorizontalFlip(p=0.5),\n",
        "    tt.ColorJitter(brightness=0.2, contrast=0.2),\n",
        "])\n",
        "\n",
        "dataset = DogVSCatDataset(path=\"/content/train\", transform=transforms)\n",
        "\n",
        "training_dataset, validation_dataset, testing_dataset = random_split(dataset, [20000, 2500, 2500])\n",
        "\n",
        "\n",
        "train_loader = DataLoader(training_dataset, batch_size=128, shuffle=True, num_workers=2, pin_memory=True, drop_last=True)\n",
        "valid_loader = DataLoader(validation_dataset, batch_size=128, shuffle=None, drop_last=True)\n",
        "test_loader = DataLoader(testing_dataset, batch_size=128, shuffle=None, drop_last=True)\n",
        "\n",
        "device = torch.device(\"cuda:0\" if torch.cuda.is_available() else \"cpu\")"
      ]
    },
    {
      "cell_type": "markdown",
      "metadata": {
        "id": "EJPpoM3BYPBP"
      },
      "source": [
        "# **`Model Definition & Initialization`**"
      ]
    },
    {
      "cell_type": "code",
      "execution_count": null,
      "metadata": {
        "colab": {
          "base_uri": "https://localhost:8080/"
        },
        "id": "wcDxrxoYJudv",
        "outputId": "a9558387-d7a5-42dd-d6b7-ea80fe86d141"
      },
      "outputs": [
        {
          "name": "stdout",
          "output_type": "stream",
          "text": [
            "----------------------------------------------------------------\n",
            "        Layer (type)               Output Shape         Param #\n",
            "================================================================\n",
            "            Conv2d-1          [128, 96, 56, 56]          34,944\n",
            "              ReLU-2          [128, 96, 56, 56]               0\n",
            "       BatchNorm2d-3          [128, 96, 56, 56]             192\n",
            "         MaxPool2d-4          [128, 96, 27, 27]               0\n",
            "            Conv2d-5         [128, 256, 27, 27]         614,656\n",
            "              ReLU-6         [128, 256, 27, 27]               0\n",
            "       BatchNorm2d-7         [128, 256, 27, 27]             512\n",
            "         MaxPool2d-8         [128, 256, 13, 13]               0\n",
            "            Conv2d-9         [128, 384, 13, 13]         885,120\n",
            "             ReLU-10         [128, 384, 13, 13]               0\n",
            "      BatchNorm2d-11         [128, 384, 13, 13]             768\n",
            "           Conv2d-12         [128, 384, 13, 13]       1,327,488\n",
            "             ReLU-13         [128, 384, 13, 13]               0\n",
            "      BatchNorm2d-14         [128, 384, 13, 13]             768\n",
            "           Conv2d-15         [128, 256, 13, 13]         884,992\n",
            "             ReLU-16         [128, 256, 13, 13]               0\n",
            "      BatchNorm2d-17         [128, 256, 13, 13]             512\n",
            "        MaxPool2d-18           [128, 256, 6, 6]               0\n",
            "          Flatten-19                [128, 9216]               0\n",
            "          Dropout-20                [128, 9216]               0\n",
            "           Linear-21                [128, 4096]      37,752,832\n",
            "             ReLU-22                [128, 4096]               0\n",
            "          Dropout-23                [128, 4096]               0\n",
            "           Linear-24                [128, 4096]      16,781,312\n",
            "             ReLU-25                [128, 4096]               0\n",
            "          Dropout-26                [128, 4096]               0\n",
            "           Linear-27                [128, 1000]       4,097,000\n",
            "             ReLU-28                [128, 1000]               0\n",
            "          Dropout-29                [128, 1000]               0\n",
            "           Linear-30                   [128, 1]           1,001\n",
            "          Sigmoid-31                   [128, 1]               0\n",
            "================================================================\n",
            "Total params: 62,382,097\n",
            "Trainable params: 62,382,097\n",
            "Non-trainable params: 0\n",
            "----------------------------------------------------------------\n",
            "Input size (MB): 75.48\n",
            "Forward/backward pass size (MB): 2100.28\n",
            "Params size (MB): 237.97\n",
            "Estimated Total Size (MB): 2413.73\n",
            "----------------------------------------------------------------\n"
          ]
        },
        {
          "data": {
            "text/plain": [
              "AlexNet(\n",
              "  (conv_layers): Sequential(\n",
              "    (0): Conv2d(3, 96, kernel_size=(11, 11), stride=(4, 4), padding=(2, 2))\n",
              "    (1): ReLU(inplace=True)\n",
              "    (2): BatchNorm2d(96, eps=1e-05, momentum=0.1, affine=True, track_running_stats=True)\n",
              "    (3): MaxPool2d(kernel_size=3, stride=2, padding=0, dilation=1, ceil_mode=False)\n",
              "    (4): Conv2d(96, 256, kernel_size=(5, 5), stride=(1, 1), padding=(2, 2))\n",
              "    (5): ReLU(inplace=True)\n",
              "    (6): BatchNorm2d(256, eps=1e-05, momentum=0.1, affine=True, track_running_stats=True)\n",
              "    (7): MaxPool2d(kernel_size=3, stride=2, padding=0, dilation=1, ceil_mode=False)\n",
              "    (8): Conv2d(256, 384, kernel_size=(3, 3), stride=(1, 1), padding=(1, 1))\n",
              "    (9): ReLU(inplace=True)\n",
              "    (10): BatchNorm2d(384, eps=1e-05, momentum=0.1, affine=True, track_running_stats=True)\n",
              "    (11): Conv2d(384, 384, kernel_size=(3, 3), stride=(1, 1), padding=(1, 1))\n",
              "    (12): ReLU(inplace=True)\n",
              "    (13): BatchNorm2d(384, eps=1e-05, momentum=0.1, affine=True, track_running_stats=True)\n",
              "    (14): Conv2d(384, 256, kernel_size=(3, 3), stride=(1, 1), padding=(1, 1))\n",
              "    (15): ReLU(inplace=True)\n",
              "    (16): BatchNorm2d(256, eps=1e-05, momentum=0.1, affine=True, track_running_stats=True)\n",
              "    (17): MaxPool2d(kernel_size=3, stride=2, padding=0, dilation=1, ceil_mode=False)\n",
              "  )\n",
              "  (fc_layers): Sequential(\n",
              "    (0): Flatten(start_dim=1, end_dim=-1)\n",
              "    (1): Dropout(p=0.5, inplace=False)\n",
              "    (2): Linear(in_features=9216, out_features=4096, bias=True)\n",
              "    (3): ReLU(inplace=True)\n",
              "    (4): Dropout(p=0.5, inplace=False)\n",
              "    (5): Linear(in_features=4096, out_features=4096, bias=True)\n",
              "    (6): ReLU(inplace=True)\n",
              "    (7): Dropout(p=0.5, inplace=False)\n",
              "    (8): Linear(in_features=4096, out_features=1000, bias=True)\n",
              "    (9): ReLU(inplace=True)\n",
              "    (10): Dropout(p=0.5, inplace=False)\n",
              "    (11): Linear(in_features=1000, out_features=1, bias=True)\n",
              "    (12): Sigmoid()\n",
              "  )\n",
              ")"
            ]
          },
          "execution_count": 26,
          "metadata": {},
          "output_type": "execute_result"
        }
      ],
      "source": [
        "class AlexNet(nn.Module):\n",
        "    def __init__(self):\n",
        "        super(AlexNet, self).__init__()\n",
        "\n",
        "        self.conv_layers = nn.Sequential(\n",
        "            nn.Conv2d(3, 96, kernel_size=11, stride=4, padding=2),\n",
        "            nn.ReLU(inplace=True),\n",
        "            nn.BatchNorm2d(num_features=96),\n",
        "            nn.MaxPool2d(kernel_size=3, stride=2),\n",
        "\n",
        "            nn.Conv2d(96, 256, kernel_size=5, padding=2),\n",
        "            nn.ReLU(inplace=True),\n",
        "            nn.BatchNorm2d(num_features=256),\n",
        "            nn.MaxPool2d(kernel_size=3, stride=2),\n",
        "\n",
        "            nn.Conv2d(256, 384, kernel_size=3, padding=1),\n",
        "            nn.ReLU(inplace=True),\n",
        "            nn.BatchNorm2d(num_features=384),\n",
        "\n",
        "            nn.Conv2d(384, 384, kernel_size=3, padding=1),\n",
        "            nn.ReLU(inplace=True),\n",
        "            nn.BatchNorm2d(num_features=384),\n",
        "\n",
        "            nn.Conv2d(384, 256, kernel_size=3, padding=1),\n",
        "            nn.ReLU(inplace=True),\n",
        "            nn.BatchNorm2d(num_features=256),\n",
        "            nn.MaxPool2d(kernel_size=3, stride=2)\n",
        "        )\n",
        "\n",
        "        self.fc_layers = nn.Sequential(\n",
        "            nn.Flatten(),\n",
        "            nn.Dropout(),\n",
        "\n",
        "            nn.Linear(256 * 6 * 6, 4096),\n",
        "            nn.ReLU(inplace=True),\n",
        "            nn.Dropout(),\n",
        "\n",
        "            nn.Linear(4096, 4096),\n",
        "            nn.ReLU(inplace=True),\n",
        "            nn.Dropout(),\n",
        "\n",
        "            nn.Linear(4096, 1000),\n",
        "            nn.ReLU(inplace=True),\n",
        "            nn.Dropout(),\n",
        "\n",
        "            nn.Linear(1000, 1),\n",
        "            nn.Sigmoid()\n",
        "        )\n",
        "\n",
        "    def forward(self, x):\n",
        "        x = self.conv_layers(x)\n",
        "        x = self.fc_layers(x)\n",
        "        return x\n",
        "\n",
        "\n",
        "network = AlexNet().to(device)\n",
        "summary(network, input_size=(3,227,227), batch_size=128)\n",
        "network"
      ]
    },
    {
      "cell_type": "markdown",
      "metadata": {
        "id": "RH4g9263bYmh"
      },
      "source": [
        "# **`Hyperpaarameter & B.P Function Definition `**"
      ]
    },
    {
      "cell_type": "code",
      "execution_count": 54,
      "metadata": {
        "id": "Da1GFeXMYwz-"
      },
      "outputs": [],
      "source": [
        "EPOCHS=10\n",
        "LR=1e-5\n",
        "MAX_LR=1e-3\n",
        "BATCH_SIZE=128\n",
        "\n",
        "criterion = nn.BCELoss()\n",
        "optimizer = Adam(params=network.parameters(), lr=LR, weight_decay=.008)\n",
        "lr_scheduler = OneCycleLR(optimizer=optimizer, max_lr=MAX_LR, steps_per_epoch=BATCH_SIZE, epochs=EPOCHS)"
      ]
    },
    {
      "cell_type": "markdown",
      "metadata": {
        "id": "SYARijyhb7Vl"
      },
      "source": [
        "# **`Training and Metric function definition`**"
      ]
    },
    {
      "cell_type": "code",
      "execution_count": null,
      "metadata": {
        "id": "HPf4p8NIb6WM"
      },
      "outputs": [],
      "source": [
        "@torch.no_grad()\n",
        "def accuracy(model, data_loader, criterion):\n",
        "    acc_count = 0\n",
        "    total_preds = 0\n",
        "    total_loss = 0.0\n",
        "    total_batches = len(data_loader)\n",
        "    data_loader = load_on_device(device, data_loader)\n",
        "\n",
        "    model.eval()\n",
        "\n",
        "    for data, target in data_loader:\n",
        "        data, target = data.to(device), target.to(device)\n",
        "        pred = model(data)\n",
        "\n",
        "\n",
        "        formated_pred = pred.squeeze() >= 0.5\n",
        "        acc_count += (formated_pred == target).sum().item()\n",
        "        total_preds += len(target)\n",
        "\n",
        "        loss = criterion(pred.squeeze(), target.float())\n",
        "        total_loss += loss.item()\n",
        "\n",
        "    if total_preds == 0:\n",
        "        return 0.0, None\n",
        "\n",
        "    avg_loss = total_loss / total_batches\n",
        "    accuracy_percentage = (acc_count / total_preds) * 100\n",
        "\n",
        "    return accuracy_percentage, avg_loss\n",
        "\n",
        "\n",
        "@torch.no_grad()\n",
        "def run_inference(model, test_dl, criterion):\n",
        "    # Get accuracy and loss on test data\n",
        "    acc_percentage, avg_loss = accuracy(model, test_dl, criterion)\n",
        "\n",
        "    # Format and print the results\n",
        "    print(\"=\" * 40)\n",
        "    print(\"Inference Results\")\n",
        "    print(\"=\" * 40)\n",
        "    print(f\"Test Accuracy: {acc_percentage:.2f}%\")\n",
        "    print(f\"Test Loss: {avg_loss:.4f}\")\n",
        "    print(\"=\" * 40)"
      ]
    },
    {
      "cell_type": "code",
      "execution_count": 55,
      "metadata": {
        "colab": {
          "base_uri": "https://localhost:8080/",
          "height": 104
        },
        "id": "TkoKoJiCcGYa",
        "outputId": "d8edaccd-3dcf-473d-c7e7-f46c70369eb8"
      },
      "outputs": [
        {
          "output_type": "display_data",
          "data": {
            "text/plain": [
              "<IPython.core.display.HTML object>"
            ],
            "text/html": [
              "Tracking run with wandb version 0.18.1"
            ]
          },
          "metadata": {}
        },
        {
          "output_type": "display_data",
          "data": {
            "text/plain": [
              "<IPython.core.display.HTML object>"
            ],
            "text/html": [
              "Run data is saved locally in <code>/content/wandb/run-20240919_122916-zx513std</code>"
            ]
          },
          "metadata": {}
        },
        {
          "output_type": "display_data",
          "data": {
            "text/plain": [
              "<IPython.core.display.HTML object>"
            ],
            "text/html": [
              "Syncing run <strong><a href='https://wandb.ai/sccsmartcode-prometheus-/AlexNet/runs/zx513std' target=\"_blank\">genial-blaze-12</a></strong> to <a href='https://wandb.ai/sccsmartcode-prometheus-/AlexNet' target=\"_blank\">Weights & Biases</a> (<a href='https://wandb.me/run' target=\"_blank\">docs</a>)<br/>"
            ]
          },
          "metadata": {}
        },
        {
          "output_type": "display_data",
          "data": {
            "text/plain": [
              "<IPython.core.display.HTML object>"
            ],
            "text/html": [
              " View project at <a href='https://wandb.ai/sccsmartcode-prometheus-/AlexNet' target=\"_blank\">https://wandb.ai/sccsmartcode-prometheus-/AlexNet</a>"
            ]
          },
          "metadata": {}
        },
        {
          "output_type": "display_data",
          "data": {
            "text/plain": [
              "<IPython.core.display.HTML object>"
            ],
            "text/html": [
              " View run at <a href='https://wandb.ai/sccsmartcode-prometheus-/AlexNet/runs/zx513std' target=\"_blank\">https://wandb.ai/sccsmartcode-prometheus-/AlexNet/runs/zx513std</a>"
            ]
          },
          "metadata": {}
        }
      ],
      "source": [
        "wandb.init(project=\"AlexNet\", config={\n",
        "    \"epochs\": EPOCHS,\n",
        "    \"learning_rate\": optimizer.param_groups[0]['lr'],\n",
        "})\n",
        "\n",
        "wandb.watch(network, criterion, log=\"all\")\n",
        "\n",
        "\n",
        "def train(model, epochs, train_dl, val_dl, criterion, optimizer, lr_scheduler):\n",
        "    total_train_batches = len(train_dl)\n",
        "    train_dl = load_on_device(device, train_dl)\n",
        "\n",
        "    for epoch in range(epochs):\n",
        "        model.train()\n",
        "        epoch_loss = 0\n",
        "\n",
        "        for data, target in train_dl:\n",
        "            data, target = data.to(device), target.to(device)\n",
        "\n",
        "            optimizer.zero_grad()\n",
        "            pred = model(data)\n",
        "\n",
        "            loss = criterion(pred.squeeze(), target)\n",
        "            loss.backward()\n",
        "            optimizer.step()\n",
        "            lr_scheduler.step()\n",
        "\n",
        "            epoch_loss = loss.item()\n",
        "\n",
        "            wandb.log({\n",
        "                \"learning_rate\": lr_scheduler.get_last_lr()[0],\n",
        "                \"batch_loss\": loss.item(),\n",
        "                \"epoch\": epoch + 1\n",
        "            })\n",
        "        wandb.log({\"train_loss\": epoch_loss / total_train_batches})\n",
        "\n",
        "        ### validation phase\n",
        "        val_acc, val_loss = accuracy(model, val_dl, criterion)\n",
        "        wandb.log({\"val_loss\": val_loss, \"val_acc\": val_acc, \"epoch\": epoch + 1})\n",
        "        torch.save(network.state_dict(), '/content/drive/MyDrive/Deep_Learning/AlexNet/parameter.pth')\n",
        "\n",
        "    wandb.finish()\n"
      ]
    },
    {
      "cell_type": "markdown",
      "metadata": {
        "id": "LBdtXE8sdMDX"
      },
      "source": [
        "# **`Network Training and Inference`**"
      ]
    },
    {
      "cell_type": "code",
      "execution_count": 56,
      "metadata": {
        "colab": {
          "base_uri": "https://localhost:8080/",
          "height": 312,
          "referenced_widgets": [
            "7a86c97e820c40c58ceae75dea9a1ff1",
            "b298ba59f78b463ab9555c3217a7a97d",
            "7236e2afae8d4ec5a35927e9a624bae0",
            "e9c1a3231cbd4c2e947147820928f967",
            "3746c6642f914be692640cb789cf90f9",
            "e20a297eb85d4c5a87fa46021abac9be",
            "f283d51d5d2844968d13d89d901111e9",
            "ede4ae61f2b64fbdb4d2ef6eda82add0"
          ]
        },
        "id": "JCstNiJedQlB",
        "outputId": "070af88c-114c-40f6-8555-317845e874d3"
      },
      "outputs": [
        {
          "output_type": "display_data",
          "data": {
            "text/plain": [
              "VBox(children=(Label(value='0.053 MB of 0.053 MB uploaded\\r'), FloatProgress(value=1.0, max=1.0)))"
            ],
            "application/vnd.jupyter.widget-view+json": {
              "version_major": 2,
              "version_minor": 0,
              "model_id": "7a86c97e820c40c58ceae75dea9a1ff1"
            }
          },
          "metadata": {}
        },
        {
          "output_type": "display_data",
          "data": {
            "text/plain": [
              "<IPython.core.display.HTML object>"
            ],
            "text/html": [
              "<style>\n",
              "    table.wandb td:nth-child(1) { padding: 0 10px; text-align: left ; width: auto;} td:nth-child(2) {text-align: left ; width: 100%}\n",
              "    .wandb-row { display: flex; flex-direction: row; flex-wrap: wrap; justify-content: flex-start; width: 100% }\n",
              "    .wandb-col { display: flex; flex-direction: column; flex-basis: 100%; flex: 1; padding: 10px; }\n",
              "    </style>\n",
              "<div class=\"wandb-row\"><div class=\"wandb-col\"><h3>Run history:</h3><br/><table class=\"wandb\"><tr><td>batch_loss</td><td>▆█▇▄▄▅▆▆▄▆▆▇▃▅█▄▅▃▃▂▅▄▅▃▅▄▄▅▅▁▅▄▆▄▇▇▆▇▄▅</td></tr><tr><td>epoch</td><td>▁▁▁▁▁▁▁▁▁▁▁▁▁▁▁▁▁▁▁▁▁▁▁▁▁▁▁▁▁▁▁▁▁▁▁▁▁▁▁█</td></tr><tr><td>learning_rate</td><td>▁▁▁▁▁▁▁▁▁▁▁▁▂▂▂▂▂▂▂▂▃▃▄▄▄▅▅▅▅▅▆▆▆▆▆▇▇▇██</td></tr><tr><td>train_loss</td><td>█▁▁▁▁▁▁▁▁▁</td></tr><tr><td>val_acc</td><td>▃▁▄▇▅█▅▆▂▁</td></tr><tr><td>val_loss</td><td>▄▁▆▂█▃█▃▇▂</td></tr></table><br/></div><div class=\"wandb-col\"><h3>Run summary:</h3><br/><table class=\"wandb\"><tr><td>batch_loss</td><td>0.34373</td></tr><tr><td>epoch</td><td>10</td></tr><tr><td>learning_rate</td><td>0.00038</td></tr><tr><td>train_loss</td><td>0</td></tr><tr><td>val_acc</td><td>82.52467</td></tr><tr><td>val_loss</td><td>0.36045</td></tr></table><br/></div></div>"
            ]
          },
          "metadata": {}
        },
        {
          "output_type": "display_data",
          "data": {
            "text/plain": [
              "<IPython.core.display.HTML object>"
            ],
            "text/html": [
              " View run <strong style=\"color:#cdcd00\">genial-blaze-12</strong> at: <a href='https://wandb.ai/sccsmartcode-prometheus-/AlexNet/runs/zx513std' target=\"_blank\">https://wandb.ai/sccsmartcode-prometheus-/AlexNet/runs/zx513std</a><br/> View project at: <a href='https://wandb.ai/sccsmartcode-prometheus-/AlexNet' target=\"_blank\">https://wandb.ai/sccsmartcode-prometheus-/AlexNet</a><br/>Synced 5 W&B file(s), 0 media file(s), 0 artifact file(s) and 0 other file(s)"
            ]
          },
          "metadata": {}
        },
        {
          "output_type": "display_data",
          "data": {
            "text/plain": [
              "<IPython.core.display.HTML object>"
            ],
            "text/html": [
              "Find logs at: <code>./wandb/run-20240919_122916-zx513std/logs</code>"
            ]
          },
          "metadata": {}
        }
      ],
      "source": [
        "train(network, EPOCHS, train_loader, valid_loader, criterion, optimizer, lr_scheduler)"
      ]
    },
    {
      "cell_type": "code",
      "source": [
        "run_inference(network, test_loader, criterion)"
      ],
      "metadata": {
        "colab": {
          "base_uri": "https://localhost:8080/"
        },
        "id": "V3R1Nb-mOQVM",
        "outputId": "cbea0c0a-11f0-44b8-9dff-2ec1c3d7a0fe"
      },
      "execution_count": 57,
      "outputs": [
        {
          "output_type": "stream",
          "name": "stdout",
          "text": [
            "========================================\n",
            "Inference Results\n",
            "========================================\n",
            "Test Accuracy: 83.14%\n",
            "Test Loss: 0.3608\n",
            "========================================\n"
          ]
        }
      ]
    }
  ],
  "metadata": {
    "accelerator": "GPU",
    "colab": {
      "gpuType": "T4",
      "provenance": [],
      "mount_file_id": "1NBXGIqd4VuNAad8HdstNGZYYikh2_ZNo",
      "authorship_tag": "ABX9TyNlwHd/LUin09osLAsKAjm7",
      "include_colab_link": true
    },
    "kernelspec": {
      "display_name": "Python 3",
      "name": "python3"
    },
    "language_info": {
      "name": "python"
    },
    "widgets": {
      "application/vnd.jupyter.widget-state+json": {
        "7a86c97e820c40c58ceae75dea9a1ff1": {
          "model_module": "@jupyter-widgets/controls",
          "model_name": "VBoxModel",
          "model_module_version": "1.5.0",
          "state": {
            "_dom_classes": [],
            "_model_module": "@jupyter-widgets/controls",
            "_model_module_version": "1.5.0",
            "_model_name": "VBoxModel",
            "_view_count": null,
            "_view_module": "@jupyter-widgets/controls",
            "_view_module_version": "1.5.0",
            "_view_name": "VBoxView",
            "box_style": "",
            "children": [
              "IPY_MODEL_b298ba59f78b463ab9555c3217a7a97d",
              "IPY_MODEL_7236e2afae8d4ec5a35927e9a624bae0"
            ],
            "layout": "IPY_MODEL_e9c1a3231cbd4c2e947147820928f967"
          }
        },
        "b298ba59f78b463ab9555c3217a7a97d": {
          "model_module": "@jupyter-widgets/controls",
          "model_name": "LabelModel",
          "model_module_version": "1.5.0",
          "state": {
            "_dom_classes": [],
            "_model_module": "@jupyter-widgets/controls",
            "_model_module_version": "1.5.0",
            "_model_name": "LabelModel",
            "_view_count": null,
            "_view_module": "@jupyter-widgets/controls",
            "_view_module_version": "1.5.0",
            "_view_name": "LabelView",
            "description": "",
            "description_tooltip": null,
            "layout": "IPY_MODEL_3746c6642f914be692640cb789cf90f9",
            "placeholder": "​",
            "style": "IPY_MODEL_e20a297eb85d4c5a87fa46021abac9be",
            "value": "0.053 MB of 0.053 MB uploaded\r"
          }
        },
        "7236e2afae8d4ec5a35927e9a624bae0": {
          "model_module": "@jupyter-widgets/controls",
          "model_name": "FloatProgressModel",
          "model_module_version": "1.5.0",
          "state": {
            "_dom_classes": [],
            "_model_module": "@jupyter-widgets/controls",
            "_model_module_version": "1.5.0",
            "_model_name": "FloatProgressModel",
            "_view_count": null,
            "_view_module": "@jupyter-widgets/controls",
            "_view_module_version": "1.5.0",
            "_view_name": "ProgressView",
            "bar_style": "",
            "description": "",
            "description_tooltip": null,
            "layout": "IPY_MODEL_f283d51d5d2844968d13d89d901111e9",
            "max": 1,
            "min": 0,
            "orientation": "horizontal",
            "style": "IPY_MODEL_ede4ae61f2b64fbdb4d2ef6eda82add0",
            "value": 1
          }
        },
        "e9c1a3231cbd4c2e947147820928f967": {
          "model_module": "@jupyter-widgets/base",
          "model_name": "LayoutModel",
          "model_module_version": "1.2.0",
          "state": {
            "_model_module": "@jupyter-widgets/base",
            "_model_module_version": "1.2.0",
            "_model_name": "LayoutModel",
            "_view_count": null,
            "_view_module": "@jupyter-widgets/base",
            "_view_module_version": "1.2.0",
            "_view_name": "LayoutView",
            "align_content": null,
            "align_items": null,
            "align_self": null,
            "border": null,
            "bottom": null,
            "display": null,
            "flex": null,
            "flex_flow": null,
            "grid_area": null,
            "grid_auto_columns": null,
            "grid_auto_flow": null,
            "grid_auto_rows": null,
            "grid_column": null,
            "grid_gap": null,
            "grid_row": null,
            "grid_template_areas": null,
            "grid_template_columns": null,
            "grid_template_rows": null,
            "height": null,
            "justify_content": null,
            "justify_items": null,
            "left": null,
            "margin": null,
            "max_height": null,
            "max_width": null,
            "min_height": null,
            "min_width": null,
            "object_fit": null,
            "object_position": null,
            "order": null,
            "overflow": null,
            "overflow_x": null,
            "overflow_y": null,
            "padding": null,
            "right": null,
            "top": null,
            "visibility": null,
            "width": null
          }
        },
        "3746c6642f914be692640cb789cf90f9": {
          "model_module": "@jupyter-widgets/base",
          "model_name": "LayoutModel",
          "model_module_version": "1.2.0",
          "state": {
            "_model_module": "@jupyter-widgets/base",
            "_model_module_version": "1.2.0",
            "_model_name": "LayoutModel",
            "_view_count": null,
            "_view_module": "@jupyter-widgets/base",
            "_view_module_version": "1.2.0",
            "_view_name": "LayoutView",
            "align_content": null,
            "align_items": null,
            "align_self": null,
            "border": null,
            "bottom": null,
            "display": null,
            "flex": null,
            "flex_flow": null,
            "grid_area": null,
            "grid_auto_columns": null,
            "grid_auto_flow": null,
            "grid_auto_rows": null,
            "grid_column": null,
            "grid_gap": null,
            "grid_row": null,
            "grid_template_areas": null,
            "grid_template_columns": null,
            "grid_template_rows": null,
            "height": null,
            "justify_content": null,
            "justify_items": null,
            "left": null,
            "margin": null,
            "max_height": null,
            "max_width": null,
            "min_height": null,
            "min_width": null,
            "object_fit": null,
            "object_position": null,
            "order": null,
            "overflow": null,
            "overflow_x": null,
            "overflow_y": null,
            "padding": null,
            "right": null,
            "top": null,
            "visibility": null,
            "width": null
          }
        },
        "e20a297eb85d4c5a87fa46021abac9be": {
          "model_module": "@jupyter-widgets/controls",
          "model_name": "DescriptionStyleModel",
          "model_module_version": "1.5.0",
          "state": {
            "_model_module": "@jupyter-widgets/controls",
            "_model_module_version": "1.5.0",
            "_model_name": "DescriptionStyleModel",
            "_view_count": null,
            "_view_module": "@jupyter-widgets/base",
            "_view_module_version": "1.2.0",
            "_view_name": "StyleView",
            "description_width": ""
          }
        },
        "f283d51d5d2844968d13d89d901111e9": {
          "model_module": "@jupyter-widgets/base",
          "model_name": "LayoutModel",
          "model_module_version": "1.2.0",
          "state": {
            "_model_module": "@jupyter-widgets/base",
            "_model_module_version": "1.2.0",
            "_model_name": "LayoutModel",
            "_view_count": null,
            "_view_module": "@jupyter-widgets/base",
            "_view_module_version": "1.2.0",
            "_view_name": "LayoutView",
            "align_content": null,
            "align_items": null,
            "align_self": null,
            "border": null,
            "bottom": null,
            "display": null,
            "flex": null,
            "flex_flow": null,
            "grid_area": null,
            "grid_auto_columns": null,
            "grid_auto_flow": null,
            "grid_auto_rows": null,
            "grid_column": null,
            "grid_gap": null,
            "grid_row": null,
            "grid_template_areas": null,
            "grid_template_columns": null,
            "grid_template_rows": null,
            "height": null,
            "justify_content": null,
            "justify_items": null,
            "left": null,
            "margin": null,
            "max_height": null,
            "max_width": null,
            "min_height": null,
            "min_width": null,
            "object_fit": null,
            "object_position": null,
            "order": null,
            "overflow": null,
            "overflow_x": null,
            "overflow_y": null,
            "padding": null,
            "right": null,
            "top": null,
            "visibility": null,
            "width": null
          }
        },
        "ede4ae61f2b64fbdb4d2ef6eda82add0": {
          "model_module": "@jupyter-widgets/controls",
          "model_name": "ProgressStyleModel",
          "model_module_version": "1.5.0",
          "state": {
            "_model_module": "@jupyter-widgets/controls",
            "_model_module_version": "1.5.0",
            "_model_name": "ProgressStyleModel",
            "_view_count": null,
            "_view_module": "@jupyter-widgets/base",
            "_view_module_version": "1.2.0",
            "_view_name": "StyleView",
            "bar_color": null,
            "description_width": ""
          }
        }
      }
    }
  },
  "nbformat": 4,
  "nbformat_minor": 0
}