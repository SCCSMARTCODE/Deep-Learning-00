{
  "nbformat": 4,
  "nbformat_minor": 0,
  "metadata": {
    "colab": {
      "provenance": [],
      "gpuType": "T4",
      "mount_file_id": "1j9XicUH_ESd_K0cyHtpMT2Z-yv10pRtX",
      "authorship_tag": "ABX9TyPKauuRdaR8YRAre01s03bo",
      "include_colab_link": true
    },
    "kernelspec": {
      "name": "python3",
      "display_name": "Python 3"
    },
    "language_info": {
      "name": "python"
    },
    "accelerator": "GPU"
  },
  "cells": [
    {
      "cell_type": "markdown",
      "metadata": {
        "id": "view-in-github",
        "colab_type": "text"
      },
      "source": [
        "<a href=\"https://colab.research.google.com/github/SCCSMARTCODE/Deep-Learning-00/blob/main/Cifar10/Cifar_10_RESNET_version2.ipynb\" target=\"_parent\"><img src=\"https://colab.research.google.com/assets/colab-badge.svg\" alt=\"Open In Colab\"/></a>"
      ]
    },
    {
      "cell_type": "code",
      "execution_count": 1,
      "metadata": {
        "id": "OjjsaX8PRmpj"
      },
      "outputs": [],
      "source": [
        "import torch\n",
        "from torch.nn import functional as F\n",
        "from torch import nn\n",
        "from torch.optim import Adam\n",
        "from torchvision.datasets import CIFAR10\n",
        "import torchvision.transforms as tt\n",
        "from torch.utils.data import random_split, DataLoader\n",
        "from torch.optim.lr_scheduler import OneCycleLR\n",
        "from pprint import pprint"
      ]
    },
    {
      "cell_type": "code",
      "source": [
        "if torch.cuda.is_available():\n",
        "    device = torch.device(\"cuda\")\n",
        "else:\n",
        "    device = torch.device(\"cpu\")\n",
        "print(f\"{device.type} is available\")"
      ],
      "metadata": {
        "colab": {
          "base_uri": "https://localhost:8080/"
        },
        "id": "ba_x9YFGg9kr",
        "outputId": "6faccb80-da85-42bf-8e93-607b48b54252"
      },
      "execution_count": 2,
      "outputs": [
        {
          "output_type": "stream",
          "name": "stdout",
          "text": [
            "cuda is available\n"
          ]
        }
      ]
    },
    {
      "cell_type": "code",
      "source": [
        "class Cifar10CNN(nn.Module):\n",
        "\n",
        "    def __init__(self):\n",
        "        super(Cifar10CNN, self).__init__()\n",
        "\n",
        "        self.conv1_layers = nn.Sequential(\n",
        "            nn.Conv2d(3, 64, kernel_size=3, padding=1, stride=1),\n",
        "            nn.ReLU(),\n",
        "            nn.BatchNorm2d(64),\n",
        "\n",
        "            nn.Conv2d(64, 128, kernel_size=3, padding=1, stride=1),\n",
        "            nn.ReLU(),\n",
        "            nn.MaxPool2d(2),\n",
        "            nn.BatchNorm2d(128),\n",
        "\n",
        "            # nn.Conv2d(128, 128, kernel_size=3, padding=1, stride=1),\n",
        "            # nn.ReLU(),\n",
        "            # nn.BatchNorm2d(128),\n",
        "        )\n",
        "\n",
        "        self.residual1_layers = nn.Sequential(\n",
        "            nn.Conv2d(128, 128, kernel_size=3, padding=1, stride=1),\n",
        "            nn.ReLU(),\n",
        "            nn.BatchNorm2d(128),\n",
        "\n",
        "            nn.Conv2d(128, 128, kernel_size=3, padding=1, stride=1),\n",
        "            nn.ReLU(),\n",
        "            nn.BatchNorm2d(128),\n",
        "\n",
        "            nn.Conv2d(128, 128, kernel_size=3, padding=1, stride=1),\n",
        "            nn.ReLU(),\n",
        "            nn.BatchNorm2d(128),\n",
        "        )\n",
        "\n",
        "        self.conv2_layers = nn.Sequential(\n",
        "            nn.Conv2d(128, 256, kernel_size=3, padding=1, stride=1),\n",
        "            nn.ReLU(),\n",
        "            nn.BatchNorm2d(256),\n",
        "\n",
        "            nn.Conv2d(256, 512, kernel_size=3, padding=1, stride=1),\n",
        "            nn.ReLU(),\n",
        "            nn.MaxPool2d(2),\n",
        "            nn.BatchNorm2d(512)\n",
        "\n",
        "            # nn.Conv2d(512, 512, kernel_size=3, padding=1, stride=1),\n",
        "            # nn.ReLU(),\n",
        "            # nn.MaxPool2d(2),\n",
        "            # nn.BatchNorm2d(512),\n",
        "        )\n",
        "\n",
        "        self.residual2_layers = nn.Sequential(\n",
        "            nn.Conv2d(512, 512, kernel_size=3, padding=1, stride=1),\n",
        "            nn.ReLU(),\n",
        "            nn.BatchNorm2d(512),\n",
        "\n",
        "            nn.Conv2d(512, 512, kernel_size=3, padding=1, stride=1),\n",
        "            nn.ReLU(),\n",
        "            nn.BatchNorm2d(512),\n",
        "\n",
        "            nn.Conv2d(512, 512, kernel_size=3, padding=1, stride=1),\n",
        "            nn.ReLU(),\n",
        "            nn.BatchNorm2d(512),\n",
        "        )\n",
        "\n",
        "        self.conv3_layers = nn.Sequential(\n",
        "            nn.Conv2d(512, 1024, kernel_size=3, padding=1, stride=1),\n",
        "            nn.ReLU(),\n",
        "            nn.BatchNorm2d(1024),\n",
        "\n",
        "            nn.Conv2d(1024, 1024, kernel_size=3, padding=1, stride=1),\n",
        "            nn.ReLU(),\n",
        "            nn.MaxPool2d(2),\n",
        "            nn.BatchNorm2d(1024)\n",
        "\n",
        "            # nn.Conv2d(1024, 2048, kernel_size=3, padding=1, stride=1),\n",
        "            # nn.ReLU(),\n",
        "            # nn.MaxPool2d(2),\n",
        "            # nn.BatchNorm2d(2048),\n",
        "        )\n",
        "\n",
        "        self.full_connected = nn.Sequential(\n",
        "            nn.Flatten(),\n",
        "            nn.Linear(1024 * 4 * 4, 1024),\n",
        "            nn.ReLU(),\n",
        "            nn.Dropout(0.5),\n",
        "\n",
        "            nn.Linear(1024, 64),\n",
        "            nn.ReLU(),\n",
        "            nn.Dropout(0.5),\n",
        "\n",
        "            nn.Linear(64, 10),\n",
        "        )\n",
        "\n",
        "    def forward(self, input):\n",
        "        out = self.conv1_layers(input)\n",
        "        out = out + self.residual1_layers(out)\n",
        "        out = self.conv2_layers(out)\n",
        "        out = out + self.residual2_layers(out)\n",
        "        out = self.conv3_layers(out)\n",
        "        out = self.full_connected(out)\n",
        "        return out\n",
        "\n",
        "# Model instantiation and device transfer\n",
        "model = Cifar10CNN()\n",
        "model.to(device=device)\n"
      ],
      "metadata": {
        "id": "7pJstf5WXAnl",
        "colab": {
          "base_uri": "https://localhost:8080/"
        },
        "outputId": "8d5211a0-73a0-4561-d1e1-411e6afa2313"
      },
      "execution_count": 3,
      "outputs": [
        {
          "output_type": "execute_result",
          "data": {
            "text/plain": [
              "Cifar10CNN(\n",
              "  (conv1_layers): Sequential(\n",
              "    (0): Conv2d(3, 64, kernel_size=(3, 3), stride=(1, 1), padding=(1, 1))\n",
              "    (1): ReLU()\n",
              "    (2): BatchNorm2d(64, eps=1e-05, momentum=0.1, affine=True, track_running_stats=True)\n",
              "    (3): Conv2d(64, 128, kernel_size=(3, 3), stride=(1, 1), padding=(1, 1))\n",
              "    (4): ReLU()\n",
              "    (5): MaxPool2d(kernel_size=2, stride=2, padding=0, dilation=1, ceil_mode=False)\n",
              "    (6): BatchNorm2d(128, eps=1e-05, momentum=0.1, affine=True, track_running_stats=True)\n",
              "  )\n",
              "  (residual1_layers): Sequential(\n",
              "    (0): Conv2d(128, 128, kernel_size=(3, 3), stride=(1, 1), padding=(1, 1))\n",
              "    (1): ReLU()\n",
              "    (2): BatchNorm2d(128, eps=1e-05, momentum=0.1, affine=True, track_running_stats=True)\n",
              "    (3): Conv2d(128, 128, kernel_size=(3, 3), stride=(1, 1), padding=(1, 1))\n",
              "    (4): ReLU()\n",
              "    (5): BatchNorm2d(128, eps=1e-05, momentum=0.1, affine=True, track_running_stats=True)\n",
              "    (6): Conv2d(128, 128, kernel_size=(3, 3), stride=(1, 1), padding=(1, 1))\n",
              "    (7): ReLU()\n",
              "    (8): BatchNorm2d(128, eps=1e-05, momentum=0.1, affine=True, track_running_stats=True)\n",
              "  )\n",
              "  (conv2_layers): Sequential(\n",
              "    (0): Conv2d(128, 256, kernel_size=(3, 3), stride=(1, 1), padding=(1, 1))\n",
              "    (1): ReLU()\n",
              "    (2): BatchNorm2d(256, eps=1e-05, momentum=0.1, affine=True, track_running_stats=True)\n",
              "    (3): Conv2d(256, 512, kernel_size=(3, 3), stride=(1, 1), padding=(1, 1))\n",
              "    (4): ReLU()\n",
              "    (5): MaxPool2d(kernel_size=2, stride=2, padding=0, dilation=1, ceil_mode=False)\n",
              "    (6): BatchNorm2d(512, eps=1e-05, momentum=0.1, affine=True, track_running_stats=True)\n",
              "  )\n",
              "  (residual2_layers): Sequential(\n",
              "    (0): Conv2d(512, 512, kernel_size=(3, 3), stride=(1, 1), padding=(1, 1))\n",
              "    (1): ReLU()\n",
              "    (2): BatchNorm2d(512, eps=1e-05, momentum=0.1, affine=True, track_running_stats=True)\n",
              "    (3): Conv2d(512, 512, kernel_size=(3, 3), stride=(1, 1), padding=(1, 1))\n",
              "    (4): ReLU()\n",
              "    (5): BatchNorm2d(512, eps=1e-05, momentum=0.1, affine=True, track_running_stats=True)\n",
              "    (6): Conv2d(512, 512, kernel_size=(3, 3), stride=(1, 1), padding=(1, 1))\n",
              "    (7): ReLU()\n",
              "    (8): BatchNorm2d(512, eps=1e-05, momentum=0.1, affine=True, track_running_stats=True)\n",
              "  )\n",
              "  (conv3_layers): Sequential(\n",
              "    (0): Conv2d(512, 1024, kernel_size=(3, 3), stride=(1, 1), padding=(1, 1))\n",
              "    (1): ReLU()\n",
              "    (2): BatchNorm2d(1024, eps=1e-05, momentum=0.1, affine=True, track_running_stats=True)\n",
              "    (3): Conv2d(1024, 1024, kernel_size=(3, 3), stride=(1, 1), padding=(1, 1))\n",
              "    (4): ReLU()\n",
              "    (5): MaxPool2d(kernel_size=2, stride=2, padding=0, dilation=1, ceil_mode=False)\n",
              "    (6): BatchNorm2d(1024, eps=1e-05, momentum=0.1, affine=True, track_running_stats=True)\n",
              "  )\n",
              "  (full_connected): Sequential(\n",
              "    (0): Flatten(start_dim=1, end_dim=-1)\n",
              "    (1): Linear(in_features=16384, out_features=1024, bias=True)\n",
              "    (2): ReLU()\n",
              "    (3): Dropout(p=0.5, inplace=False)\n",
              "    (4): Linear(in_features=1024, out_features=64, bias=True)\n",
              "    (5): ReLU()\n",
              "    (6): Dropout(p=0.5, inplace=False)\n",
              "    (7): Linear(in_features=64, out_features=10, bias=True)\n",
              "  )\n",
              ")"
            ]
          },
          "metadata": {},
          "execution_count": 3
        }
      ]
    },
    {
      "cell_type": "code",
      "source": [
        "dataset_path=\"/content/drive/MyDrive/Deep Learning/cifar_10\"\n",
        "\n",
        "\n",
        "transformation = tt.Compose([\n",
        "    tt.ToTensor(),\n",
        "    tt.Pad(3, padding_mode=\"reflect\"),\n",
        "    tt.RandomCrop(size=32),\n",
        "    tt.RandomRotation(10),\n",
        "    tt.RandomHorizontalFlip()\n",
        "])\n",
        "\n",
        "\n",
        "train_dataset = CIFAR10(root=dataset_path, transform=transformation, train=True)\n",
        "test_dataset = CIFAR10(root=dataset_path, transform=transformation, train=False)"
      ],
      "metadata": {
        "id": "kYSGGLqoeNdf"
      },
      "execution_count": 4,
      "outputs": []
    },
    {
      "cell_type": "code",
      "source": [
        "WEIGHT_DECAY=1e-4\n",
        "MAX_LR=2e-3\n",
        "EPOCHS=10\n",
        "\n",
        "\n",
        "\n",
        "\n",
        "train_inputs, val_inputs = random_split(train_dataset, [45000, 5000])\n",
        "train_dl = DataLoader(train_inputs, batch_size=512, shuffle=True, pin_memory=True, num_workers=2)\n",
        "val_dl = DataLoader(val_inputs, batch_size=128)\n",
        "loss_fn = F.cross_entropy\n",
        "optim = Adam(model.parameters(), lr=0.0009, weight_decay=WEIGHT_DECAY)\n",
        "lr_scheduler = OneCycleLR(optim, max_lr=MAX_LR, total_steps=EPOCHS*len(train_dl))"
      ],
      "metadata": {
        "id": "44qdy5tXgAKh"
      },
      "execution_count": 5,
      "outputs": []
    },
    {
      "cell_type": "code",
      "source": [
        "@torch.no_grad\n",
        "def accuracy(val_dl):\n",
        "    acc_count = 0\n",
        "    data_points = 0\n",
        "    for input, label in val_dl:\n",
        "        input = input.to(device=device)\n",
        "        label = label.to(device=device)\n",
        "        _, index = torch.max(model(input), dim=1)\n",
        "        acc_count += sum([1 for x, y in zip(index, label) if x == y])\n",
        "        data_points += len(label)\n",
        "\n",
        "    return acc_count/data_points\n",
        "\n",
        "\n",
        "@torch.no_grad\n",
        "def evaluate(val_dl):\n",
        "    model.eval()\n",
        "    losses = []\n",
        "    for input, label in val_dl:\n",
        "        input = input.to(device=device)\n",
        "        label = label.to(device=device)\n",
        "        output = model(input)\n",
        "        loss = nn.CrossEntropyLoss()(output, label)\n",
        "        losses.append(loss.item())\n",
        "\n",
        "    loss = torch.mean(torch.tensor(losses))\n",
        "\n",
        "    acc = accuracy(val_dl)\n",
        "    return {\"val_loss\": loss, \"val_acc\": acc}\n"
      ],
      "metadata": {
        "id": "WFs_Av6Bi13Q"
      },
      "execution_count": 6,
      "outputs": []
    },
    {
      "cell_type": "code",
      "source": [
        "def train(epochs, model, train_dl, loss_fn, optim, val_dl, lr_scheduler):\n",
        "    val_history = []\n",
        "    training_loss_history = []\n",
        "    for epoch in range(epochs):\n",
        "        model.train()\n",
        "\n",
        "        for inputs, labels in train_dl:\n",
        "            batch_loss = []\n",
        "            inputs = inputs.to(device=device)\n",
        "            labels = labels.to(device=device)\n",
        "\n",
        "            pred = model(inputs)\n",
        "            loss = loss_fn(pred, labels)\n",
        "            batch_loss.append(loss)\n",
        "            loss.backward()\n",
        "            optim.step()\n",
        "            lr_scheduler.step()\n",
        "\n",
        "            optim.zero_grad()\n",
        "\n",
        "            # grad = model.named_parameters()\n",
        "            # return grad\n",
        "\n",
        "\n",
        "        loss_mean = torch.mean(torch.stack(batch_loss))\n",
        "        training_loss_history.append(loss_mean)\n",
        "\n",
        "        # validation stage\n",
        "        validation_update = evaluate(val_dl)\n",
        "        val_history.append(validation_update)\n",
        "        torch.save(model.state_dict(), \"/content/drive/MyDrive/Deep Learning/cifar_10/parameters-cnn_version2.pth\")\n",
        "\n",
        "        print(f\"{epoch+1}/{epochs} Loss: {loss_mean} {validation_update}\")\n",
        "\n",
        "\n",
        "    return val_history, training_loss_history"
      ],
      "metadata": {
        "id": "aUPgOtIpyDlk"
      },
      "execution_count": 7,
      "outputs": []
    },
    {
      "cell_type": "code",
      "source": [
        "output = train(EPOCHS, model, train_dl, loss_fn, optim, val_dl, lr_scheduler)"
      ],
      "metadata": {
        "colab": {
          "base_uri": "https://localhost:8080/"
        },
        "id": "H8-TCz0A1H0P",
        "outputId": "15021e22-4db6-4cc4-d77c-b06abd7bd9ee"
      },
      "execution_count": 8,
      "outputs": [
        {
          "output_type": "stream",
          "name": "stdout",
          "text": [
            "1/10 Loss: 1.4851547479629517 {'val_loss': tensor(1.4914), 'val_acc': 0.483}\n",
            "2/10 Loss: 1.2828972339630127 {'val_loss': tensor(1.3280), 'val_acc': 0.5596}\n",
            "3/10 Loss: 1.0860238075256348 {'val_loss': tensor(1.1687), 'val_acc': 0.6042}\n",
            "4/10 Loss: 0.8469569087028503 {'val_loss': tensor(0.9594), 'val_acc': 0.666}\n",
            "5/10 Loss: 0.8756997585296631 {'val_loss': tensor(0.8354), 'val_acc': 0.7174}\n",
            "6/10 Loss: 0.7165172696113586 {'val_loss': tensor(0.6690), 'val_acc': 0.7706}\n",
            "7/10 Loss: 0.5536722540855408 {'val_loss': tensor(0.5998), 'val_acc': 0.7962}\n",
            "8/10 Loss: 0.5584132671356201 {'val_loss': tensor(0.5079), 'val_acc': 0.8276}\n",
            "9/10 Loss: 0.4115431308746338 {'val_loss': tensor(0.4469), 'val_acc': 0.8502}\n",
            "10/10 Loss: 0.469934344291687 {'val_loss': tensor(0.4468), 'val_acc': 0.854}\n"
          ]
        }
      ]
    },
    {
      "cell_type": "code",
      "source": [
        "MAX_LR=5e-4\n",
        "\n",
        "\n",
        "optim = Adam(model.parameters(), lr=0.00005, weight_decay=WEIGHT_DECAY)\n",
        "lr_scheduler = OneCycleLR(optim, max_lr=MAX_LR, total_steps=EPOCHS*len(train_dl))"
      ],
      "metadata": {
        "id": "7Ens04rcdWax"
      },
      "execution_count": 9,
      "outputs": []
    },
    {
      "cell_type": "code",
      "source": [
        "output1 = train(EPOCHS, model, train_dl, loss_fn, optim, val_dl, lr_scheduler)"
      ],
      "metadata": {
        "id": "iZY2EyYjaP4O",
        "colab": {
          "base_uri": "https://localhost:8080/"
        },
        "outputId": "786bbbcb-90d1-414c-c214-7ff4e05bbf59"
      },
      "execution_count": 10,
      "outputs": [
        {
          "output_type": "stream",
          "name": "stdout",
          "text": [
            "1/10 Loss: 0.4017584025859833 {'val_loss': tensor(0.3802), 'val_acc': 0.869}\n",
            "2/10 Loss: 0.5278711318969727 {'val_loss': tensor(0.4728), 'val_acc': 0.8506}\n",
            "3/10 Loss: 0.4518710672855377 {'val_loss': tensor(0.5050), 'val_acc': 0.8252}\n",
            "4/10 Loss: 0.481910765171051 {'val_loss': tensor(0.4968), 'val_acc': 0.839}\n",
            "5/10 Loss: 0.4062426686286926 {'val_loss': tensor(0.4645), 'val_acc': 0.8494}\n",
            "6/10 Loss: 0.2984062135219574 {'val_loss': tensor(0.4230), 'val_acc': 0.8664}\n",
            "7/10 Loss: 0.2802327871322632 {'val_loss': tensor(0.3536), 'val_acc': 0.8802}\n",
            "8/10 Loss: 0.21657401323318481 {'val_loss': tensor(0.3372), 'val_acc': 0.89}\n",
            "9/10 Loss: 0.20734475553035736 {'val_loss': tensor(0.3058), 'val_acc': 0.8964}\n",
            "10/10 Loss: 0.1591821014881134 {'val_loss': tensor(0.3013), 'val_acc': 0.9038}\n"
          ]
        }
      ]
    },
    {
      "cell_type": "code",
      "source": [
        "MAX_LR=5e-5\n",
        "\n",
        "\n",
        "optim = Adam(model.parameters(), lr=0.000005, weight_decay=WEIGHT_DECAY)\n",
        "lr_scheduler = OneCycleLR(optim, max_lr=MAX_LR, total_steps=EPOCHS*len(train_dl))"
      ],
      "metadata": {
        "id": "vdnYjs1beJ3w"
      },
      "execution_count": 11,
      "outputs": []
    },
    {
      "cell_type": "code",
      "source": [
        "output2 = train(EPOCHS, model, train_dl, loss_fn, optim, val_dl, lr_scheduler)"
      ],
      "metadata": {
        "colab": {
          "base_uri": "https://localhost:8080/"
        },
        "id": "NO_uBCXT0PS-",
        "outputId": "86287b04-6fc6-41a4-af59-ef73b17a70ea"
      },
      "execution_count": 12,
      "outputs": [
        {
          "output_type": "stream",
          "name": "stdout",
          "text": [
            "1/10 Loss: 0.17906786501407623 {'val_loss': tensor(0.1570), 'val_acc': 0.942}\n",
            "2/10 Loss: 0.2261536866426468 {'val_loss': tensor(0.1553), 'val_acc': 0.9454}\n",
            "3/10 Loss: 0.18268977105617523 {'val_loss': tensor(0.1590), 'val_acc': 0.9472}\n",
            "4/10 Loss: 0.17537811398506165 {'val_loss': tensor(0.1725), 'val_acc': 0.9426}\n",
            "5/10 Loss: 0.18715672194957733 {'val_loss': tensor(0.1611), 'val_acc': 0.9464}\n",
            "6/10 Loss: 0.1303287297487259 {'val_loss': tensor(0.1702), 'val_acc': 0.9438}\n",
            "7/10 Loss: 0.15556426346302032 {'val_loss': tensor(0.1599), 'val_acc': 0.9454}\n",
            "8/10 Loss: 0.11307051032781601 {'val_loss': tensor(0.1528), 'val_acc': 0.95}\n",
            "9/10 Loss: 0.1224793791770935 {'val_loss': tensor(0.1428), 'val_acc': 0.9452}\n",
            "10/10 Loss: 0.12300608307123184 {'val_loss': tensor(0.1596), 'val_acc': 0.9464}\n"
          ]
        }
      ]
    },
    {
      "cell_type": "code",
      "source": [
        "print(evaluate(val_dl))"
      ],
      "metadata": {
        "colab": {
          "base_uri": "https://localhost:8080/"
        },
        "id": "0akUF5yfoYT0",
        "outputId": "2b8d6c58-157d-4be0-8510-3d2c9314b335"
      },
      "execution_count": 13,
      "outputs": [
        {
          "output_type": "stream",
          "name": "stdout",
          "text": [
            "{'val_loss': tensor(0.1575), 'val_acc': 0.9482}\n"
          ]
        }
      ]
    },
    {
      "cell_type": "code",
      "source": [
        "import torch\n",
        "from matplotlib import pyplot as plt\n",
        "import numpy as np\n",
        "\n",
        "plt.figure(1)\n",
        "plt.xlabel(\"Epochs\")\n",
        "plt.ylabel(\"Loss\")\n",
        "test_loss = output[1]\n",
        "val_loss = [x[\"val_loss\"].cpu().numpy() for x in output[0]]\n",
        "val_acc = [x[\"val_acc\"] for x in output[0]]\n",
        "\n",
        "for output in [output1, output2]:\n",
        "    val_loss.extend([x[\"val_loss\"].cpu().numpy() for x in output[0]])\n",
        "    val_acc.extend([x[\"val_acc\"] for x in output[0]])\n",
        "    test_loss.extend(output[1])\n",
        "\n",
        "plt.plot(np.array(torch.tensor(test_loss, device=torch.device(\"cpu\"))), \"-o\", label=\"train_loss\")\n",
        "plt.plot(np.array(val_loss), \"-x\", label=\"val_loss\")\n",
        "plt.legend()\n",
        "\n",
        "plt.figure(2)\n",
        "plt.xlabel(\"Epochs\")\n",
        "plt.ylabel(\"Accuracy\")\n",
        "\n",
        "plt.plot(np.array(val_acc), \"-o\", label=\"val_acc\")\n",
        "plt.legend()\n",
        "\n",
        "plt.show()"
      ],
      "metadata": {
        "colab": {
          "base_uri": "https://localhost:8080/",
          "height": 881
        },
        "id": "Iphxx0N-w5Xx",
        "outputId": "ec4e634b-1cdc-40c1-9d91-fedf352ba143"
      },
      "execution_count": 14,
      "outputs": [
        {
          "output_type": "display_data",
          "data": {
            "text/plain": [
              "<Figure size 640x480 with 1 Axes>"
            ],
            "image/png": "[encoded data removed]"
          },
          "metadata": {}
        },
        {
          "output_type": "display_data",
          "data": {
            "text/plain": [
              "<Figure size 640x480 with 1 Axes>"
            ],
            "image/png": "[encoded data removed]"
          },
          "metadata": {}
        }
      ]
    }
  ]
}